{
 "cells": [
  {
   "cell_type": "code",
   "execution_count": 1,
   "id": "ed5c4d2c-7a3e-40aa-b570-b8c6e9cea84b",
   "metadata": {},
   "outputs": [],
   "source": [
    "import pandas as pd\n",
    "import numpy as np\n",
    "import joblib\n",
    "import matplotlib.pyplot as plt\n",
    "from sklearn.ensemble import RandomForestClassifier\n",
    "from sklearn.metrics import accuracy_score, classification_report, confusion_matrix, accuracy_score, precision_score, recall_score, f1_score, roc_auc_score, roc_curve, auc, cohen_kappa_score, matthews_corrcoef\n",
    "from sklearn.preprocessing import label_binarize\n",
    "from sklearn.ensemble import VotingClassifier\n",
    "from sklearn.base import BaseEstimator, TransformerMixin\n",
    "from sklearn.compose import ColumnTransformer\n",
    "from sklearn.pipeline import Pipeline\n",
    "from sklearn.ensemble import GradientBoostingClassifier\n",
    "from sklearn.neural_network import MLPClassifier\n",
    "import itertools"
   ]
  },
  {
   "cell_type": "markdown",
   "id": "bc67c4b1-fd9d-47e0-b485-ebf44ca2c06c",
   "metadata": {},
   "source": [
    "# Adatbeolvasás"
   ]
  },
  {
   "cell_type": "markdown",
   "id": "88585a3c-d375-4c8b-9b37-1af3adeea836",
   "metadata": {},
   "source": [
    "## Patientdata\n",
    "Az eredeti csv feldolgozása már tanulásra előkészített adatokkal"
   ]
  },
  {
   "cell_type": "code",
   "execution_count": 2,
   "id": "dce405d3-c23a-4004-b647-1118a8ec86b8",
   "metadata": {},
   "outputs": [],
   "source": [
    "readIn = pd.read_csv(\"data/df_patientdata.csv\")\n",
    "df_patientdata= pd.DataFrame(readIn)"
   ]
  },
  {
   "cell_type": "code",
   "execution_count": 3,
   "id": "5a3e2549-e89c-4937-aa21-ccdaecd52087",
   "metadata": {},
   "outputs": [
    {
     "data": {
      "text/html": [
       "<div>\n",
       "<style scoped>\n",
       "    .dataframe tbody tr th:only-of-type {\n",
       "        vertical-align: middle;\n",
       "    }\n",
       "\n",
       "    .dataframe tbody tr th {\n",
       "        vertical-align: top;\n",
       "    }\n",
       "\n",
       "    .dataframe thead th {\n",
       "        text-align: right;\n",
       "    }\n",
       "</style>\n",
       "<table border=\"1\" class=\"dataframe\">\n",
       "  <thead>\n",
       "    <tr style=\"text-align: right;\">\n",
       "      <th></th>\n",
       "      <th>PatientID</th>\n",
       "      <th>Pathology</th>\n",
       "      <th>Is_Male</th>\n",
       "      <th>Age_Group_3</th>\n",
       "      <th>Age_Group_4</th>\n",
       "      <th>Age_Group_5</th>\n",
       "      <th>Age_Group_6</th>\n",
       "      <th>Age_Group_7</th>\n",
       "      <th>Age_Group_8</th>\n",
       "    </tr>\n",
       "  </thead>\n",
       "  <tbody>\n",
       "    <tr>\n",
       "      <th>0</th>\n",
       "      <td>SCD0000101</td>\n",
       "      <td>1</td>\n",
       "      <td>1</td>\n",
       "      <td>False</td>\n",
       "      <td>False</td>\n",
       "      <td>True</td>\n",
       "      <td>False</td>\n",
       "      <td>False</td>\n",
       "      <td>False</td>\n",
       "    </tr>\n",
       "    <tr>\n",
       "      <th>1</th>\n",
       "      <td>SCD0000201</td>\n",
       "      <td>1</td>\n",
       "      <td>1</td>\n",
       "      <td>False</td>\n",
       "      <td>True</td>\n",
       "      <td>False</td>\n",
       "      <td>False</td>\n",
       "      <td>False</td>\n",
       "      <td>False</td>\n",
       "    </tr>\n",
       "    <tr>\n",
       "      <th>2</th>\n",
       "      <td>SCD0000301</td>\n",
       "      <td>1</td>\n",
       "      <td>1</td>\n",
       "      <td>False</td>\n",
       "      <td>False</td>\n",
       "      <td>False</td>\n",
       "      <td>False</td>\n",
       "      <td>True</td>\n",
       "      <td>False</td>\n",
       "    </tr>\n",
       "  </tbody>\n",
       "</table>\n",
       "</div>"
      ],
      "text/plain": [
       "    PatientID  Pathology  Is_Male  Age_Group_3  Age_Group_4  Age_Group_5  \\\n",
       "0  SCD0000101          1        1        False        False         True   \n",
       "1  SCD0000201          1        1        False         True        False   \n",
       "2  SCD0000301          1        1        False        False        False   \n",
       "\n",
       "   Age_Group_6  Age_Group_7  Age_Group_8  \n",
       "0        False        False        False  \n",
       "1        False        False        False  \n",
       "2        False         True        False  "
      ]
     },
     "execution_count": 3,
     "metadata": {},
     "output_type": "execute_result"
    }
   ],
   "source": [
    "df_patientdata.head(3)"
   ]
  },
  {
   "cell_type": "markdown",
   "id": "6697300b-6414-4227-84c0-c527cf819eed",
   "metadata": {},
   "source": [
    "## Image data\n",
    "A dicom fájlokból egységesített, normalizált képek. \n",
    "- Numpy tömbben\n",
    "- Méretük: (256,256)\n",
    "- Minden pixelhez csak egy érték tartozik, értékük 0-1 között van"
   ]
  },
  {
   "cell_type": "markdown",
   "id": "4aaf4eca-adcb-4a64-a261-45384136a4cc",
   "metadata": {},
   "source": [
    "Disclaimer!! Ez pár percig el fog tartani"
   ]
  },
  {
   "cell_type": "markdown",
   "id": "b6d6f83e-c302-443e-a43e-8212bbe81e6b",
   "metadata": {},
   "source": [
    "# Effective data loading"
   ]
  },
  {
   "cell_type": "markdown",
   "id": "91927bf5-58ff-48d3-a1bd-c8ba49abcccd",
   "metadata": {},
   "source": [
    "Load and train models in batches. The prepared data is stored in `data/images_splitX.npz`.\n",
    "\n",
    "There are 12 data files:\n",
    "- **0-8** for training the **individual models**\n",
    "- **9-10** for training the **Voting classifier**\n",
    "- **11** for **testing and evaluating**\n",
    "\n",
    "The saved data is already shuffled."
   ]
  },
  {
   "cell_type": "code",
   "execution_count": 4,
   "id": "47bd4bf1-5876-495e-91ec-d187505dc890",
   "metadata": {},
   "outputs": [],
   "source": [
    "# Read the first 9 datafiles for training\n",
    "split_num=9"
   ]
  },
  {
   "cell_type": "code",
   "execution_count": 5,
   "id": "6dca278f-e35b-4826-840b-966885af7c05",
   "metadata": {},
   "outputs": [],
   "source": [
    "# Read a file with number\n",
    "# Transform it to data to train with\n",
    "def getXandY(splitNum):\n",
    "    base_name='data/images'\n",
    "    split_name = f'{base_name}_split{splitNum}.npz'\n",
    "    data = np.load(split_name, allow_pickle=True)\n",
    "    data_images=data['images']\n",
    "    data_ids=data['ids']\n",
    "    print(f'Merging         {splitNum}', end='\\r')\n",
    "    image_data=[]\n",
    "    for id, image in zip(data_ids, data_images):\n",
    "        image_data.append([id, image.flatten()])\n",
    "\n",
    "    del data_images\n",
    "    del data_ids\n",
    "\n",
    "    df_images =pd.DataFrame(image_data, columns=['PatientID', 'Image'])\n",
    "\n",
    "    del image_data\n",
    "    \n",
    "    merged_df = pd.merge(df_patientdata, df_images, on='PatientID', how='inner')\n",
    "\n",
    "    X = merged_df.drop(['PatientID', 'Pathology'], axis=1)\n",
    "    y = merged_df['Pathology']\n",
    "    return X, y"
   ]
  },
  {
   "cell_type": "markdown",
   "id": "024ec5bd-b0c7-45b7-8199-71e9b7c53436",
   "metadata": {},
   "source": [
    "# Training"
   ]
  },
  {
   "cell_type": "markdown",
   "id": "7ea37c5c-8b3a-4332-b66d-580ce79cef6a",
   "metadata": {},
   "source": [
    "## Individual model training"
   ]
  },
  {
   "cell_type": "code",
   "execution_count": 6,
   "id": "93f2e0a7-0a58-4437-bbf2-fc003a23b6dc",
   "metadata": {},
   "outputs": [],
   "source": [
    "# Class responsible for training the individual models\n",
    "class IndividualModelTrainer:\n",
    "    def __init__(self, split_num):\n",
    "        # How many datafiles to train with\n",
    "        self.split_num = split_num\n",
    "        # Random forest learning on images\n",
    "        self.randomForest_i = RandomForestClassifier(n_estimators=20, warm_start=True)\n",
    "        # Random forest learning on patient data\n",
    "        self.randomForest_pd = RandomForestClassifier(n_estimators=20, warm_start=True)\n",
    "        # Gradient boosting learning on patient data\n",
    "        self.gradBoosting_pd = GradientBoostingClassifier(n_estimators=30, warm_start=True)\n",
    "        # MLP classifier learning on images\n",
    "        self.nn_i = MLPClassifier(hidden_layer_sizes=(128, 64), max_iter=1000, random_state=42)\n",
    "        self.nn_initialized = False\n",
    "        \n",
    "    def training_for_sklearn(self):\n",
    "        base_name='data/images'\n",
    "        # Read datafile with id 'i'\n",
    "        for i in range(split_num):\n",
    "            print(f'Processing      {i}', end='\\r')\n",
    "            X_train, y_train = getXandY(i)\n",
    "        \n",
    "            X_image_train = X_train['Image'].tolist()\n",
    "            X_patient_data_train = X_train.drop(['Image'], axis=1)\n",
    "        \n",
    "            print(f'Training images {i}', end='\\r')\n",
    "            self.train_image_classifiers(X_image_train, y_train)\n",
    "            print(f'Training csv    {i}', end='\\r')\n",
    "            self.train_patient_data_classifiers(X_patient_data_train, y_train)\n",
    "\n",
    "    def train_image_classifiers(self, X_image_train, y_train):\n",
    "        self.randomForest_i.fit(X_image_train, y_train)\n",
    "        # Add trees for incremental model training\n",
    "        self.randomForest_i.n_estimators+=20\n",
    "        # If neural network has been initialized\n",
    "        if self.nn_initialized:\n",
    "            self.nn_i.partial_fit(X_image_train, y_train)\n",
    "        else:\n",
    "            # If not yet initialized, provide the classes\n",
    "            self.nn_i.partial_fit(X_image_train, y_train, classes=[0, 1, 2, 3])\n",
    "            self.nn_initialized = True\n",
    "        \n",
    "\n",
    "    def train_patient_data_classifiers(self, X_patient_data_train, y_train):\n",
    "        # Train models with patient data\n",
    "        self.randomForest_pd.fit(X_patient_data_train, y_train)\n",
    "        self.gradBoosting_pd.fit(X_patient_data_train, y_train)\n",
    "        # Add trees for incremental model training\n",
    "        self.randomForest_pd.n_estimators+=3\n",
    "        self.gradBoosting_pd.n_estimators+=6"
   ]
  },
  {
   "cell_type": "code",
   "execution_count": 7,
   "id": "c9113a58-8425-4be8-b257-760b6fa062b3",
   "metadata": {},
   "outputs": [],
   "source": [
    "individualModelTrainer = IndividualModelTrainer(split_num)"
   ]
  },
  {
   "cell_type": "code",
   "execution_count": 8,
   "id": "bc681743-e2fc-4d9e-b090-bf92e0267c4a",
   "metadata": {},
   "outputs": [
    {
     "name": "stdout",
     "output_type": "stream",
     "text": [
      "Training csv    8\r"
     ]
    }
   ],
   "source": [
    "# Individual model training\n",
    "individualModelTrainer.training_for_sklearn()"
   ]
  },
  {
   "cell_type": "markdown",
   "id": "19eb5000-d1eb-40cf-b673-f1efd2de04bf",
   "metadata": {},
   "source": [
    "## Voting classifier"
   ]
  },
  {
   "cell_type": "markdown",
   "id": "ff1ef5bb-ae3c-4c5e-a87c-20930f25c0f6",
   "metadata": {},
   "source": [
    "### Load ensemble data\n",
    "\n",
    "Load datafile 9 and 10 for ensemble training"
   ]
  },
  {
   "cell_type": "code",
   "execution_count": 9,
   "id": "6a46c1cd-76d3-4374-84c2-a5d01cc9c31d",
   "metadata": {},
   "outputs": [
    {
     "name": "stdout",
     "output_type": "stream",
     "text": [
      "Merging         10\r"
     ]
    }
   ],
   "source": [
    "X_train_9, y_train_9 = getXandY(9)\n",
    "X_train_10, y_train_10 = getXandY(10)\n",
    "X_train_ensemble = pd.concat([X_train_9, X_train_10], axis=0)\n",
    "y_train_ensemble = pd.concat([y_train_9, y_train_10], axis=0)"
   ]
  },
  {
   "cell_type": "markdown",
   "id": "9660a22a-a682-4974-8096-081258e411c1",
   "metadata": {},
   "source": [
    "### Create voting classifier"
   ]
  },
  {
   "cell_type": "code",
   "execution_count": 10,
   "id": "17313c10-e02b-4b2d-abdb-273695a2dcb9",
   "metadata": {},
   "outputs": [],
   "source": [
    "# Column selector is the first part for the voting classifier pipeline\n",
    "# If it's an image estimator, it transforms the df to the image column\n",
    "# If it's a patient data estimator, it transforms the df without an image column\n",
    "class ColumnSelector(BaseEstimator, TransformerMixin):\n",
    "    def __init__(self, imageSelector= False, isNn=False):\n",
    "        self.imageSelector = imageSelector\n",
    "        self.isNn = isNn\n",
    "\n",
    "    def fit(self, X, y=None):\n",
    "        return self\n",
    "\n",
    "    def transform(self, X):\n",
    "        if self.imageSelector:\n",
    "            return X['Image'].tolist()\n",
    "        return X.drop(['Image'], axis=1)"
   ]
  },
  {
   "cell_type": "code",
   "execution_count": 11,
   "id": "4be44161-c7c4-4e9d-8ffa-5c7dcdd23675",
   "metadata": {},
   "outputs": [],
   "source": [
    "patient_data_transformer = ColumnSelector()\n",
    "image_transformer = ColumnSelector(imageSelector=True)"
   ]
  },
  {
   "cell_type": "code",
   "execution_count": 12,
   "id": "32a981b2-3844-4292-b456-cfcd93de2d13",
   "metadata": {},
   "outputs": [],
   "source": [
    "# Voting classifier estimators\n",
    "estimators = [\n",
    "    ('gb_patient_data', Pipeline([('selector', patient_data_transformer), ('model', individualModelTrainer.gradBoosting_pd)])),\n",
    "    ('rf_patient_data', Pipeline([('selector', patient_data_transformer), ('model', individualModelTrainer.randomForest_pd)])),\n",
    "    ('rf_image', Pipeline([('selector', image_transformer), ('model', individualModelTrainer.randomForest_i)])),\n",
    "    ('nn_image', Pipeline([('selector', image_transformer), ('model', individualModelTrainer.nn_i)])),\n",
    "]"
   ]
  },
  {
   "cell_type": "markdown",
   "id": "ba86cf64",
   "metadata": {},
   "source": [
    "Soft voting so that the weaker patient data estimators won't overpower the more accurate estimators."
   ]
  },
  {
   "cell_type": "code",
   "execution_count": 13,
   "id": "d7ac5bda-dd1b-4dc1-89ad-58b906ef1b95",
   "metadata": {},
   "outputs": [],
   "source": [
    "voting_classifier = VotingClassifier(estimators, voting='soft')"
   ]
  },
  {
   "cell_type": "markdown",
   "id": "13de08c4-6c7b-4bbb-b2a6-d65167a96557",
   "metadata": {},
   "source": [
    "### Train voting classifier"
   ]
  },
  {
   "cell_type": "code",
   "execution_count": 14,
   "id": "357944c2-2d62-488f-b4f4-eff342f0006f",
   "metadata": {},
   "outputs": [
    {
     "data": {
      "text/html": [
       "<style>#sk-container-id-1 {color: black;}#sk-container-id-1 pre{padding: 0;}#sk-container-id-1 div.sk-toggleable {background-color: white;}#sk-container-id-1 label.sk-toggleable__label {cursor: pointer;display: block;width: 100%;margin-bottom: 0;padding: 0.3em;box-sizing: border-box;text-align: center;}#sk-container-id-1 label.sk-toggleable__label-arrow:before {content: \"▸\";float: left;margin-right: 0.25em;color: #696969;}#sk-container-id-1 label.sk-toggleable__label-arrow:hover:before {color: black;}#sk-container-id-1 div.sk-estimator:hover label.sk-toggleable__label-arrow:before {color: black;}#sk-container-id-1 div.sk-toggleable__content {max-height: 0;max-width: 0;overflow: hidden;text-align: left;background-color: #f0f8ff;}#sk-container-id-1 div.sk-toggleable__content pre {margin: 0.2em;color: black;border-radius: 0.25em;background-color: #f0f8ff;}#sk-container-id-1 input.sk-toggleable__control:checked~div.sk-toggleable__content {max-height: 200px;max-width: 100%;overflow: auto;}#sk-container-id-1 input.sk-toggleable__control:checked~label.sk-toggleable__label-arrow:before {content: \"▾\";}#sk-container-id-1 div.sk-estimator input.sk-toggleable__control:checked~label.sk-toggleable__label {background-color: #d4ebff;}#sk-container-id-1 div.sk-label input.sk-toggleable__control:checked~label.sk-toggleable__label {background-color: #d4ebff;}#sk-container-id-1 input.sk-hidden--visually {border: 0;clip: rect(1px 1px 1px 1px);clip: rect(1px, 1px, 1px, 1px);height: 1px;margin: -1px;overflow: hidden;padding: 0;position: absolute;width: 1px;}#sk-container-id-1 div.sk-estimator {font-family: monospace;background-color: #f0f8ff;border: 1px dotted black;border-radius: 0.25em;box-sizing: border-box;margin-bottom: 0.5em;}#sk-container-id-1 div.sk-estimator:hover {background-color: #d4ebff;}#sk-container-id-1 div.sk-parallel-item::after {content: \"\";width: 100%;border-bottom: 1px solid gray;flex-grow: 1;}#sk-container-id-1 div.sk-label:hover label.sk-toggleable__label {background-color: #d4ebff;}#sk-container-id-1 div.sk-serial::before {content: \"\";position: absolute;border-left: 1px solid gray;box-sizing: border-box;top: 0;bottom: 0;left: 50%;z-index: 0;}#sk-container-id-1 div.sk-serial {display: flex;flex-direction: column;align-items: center;background-color: white;padding-right: 0.2em;padding-left: 0.2em;position: relative;}#sk-container-id-1 div.sk-item {position: relative;z-index: 1;}#sk-container-id-1 div.sk-parallel {display: flex;align-items: stretch;justify-content: center;background-color: white;position: relative;}#sk-container-id-1 div.sk-item::before, #sk-container-id-1 div.sk-parallel-item::before {content: \"\";position: absolute;border-left: 1px solid gray;box-sizing: border-box;top: 0;bottom: 0;left: 50%;z-index: -1;}#sk-container-id-1 div.sk-parallel-item {display: flex;flex-direction: column;z-index: 1;position: relative;background-color: white;}#sk-container-id-1 div.sk-parallel-item:first-child::after {align-self: flex-end;width: 50%;}#sk-container-id-1 div.sk-parallel-item:last-child::after {align-self: flex-start;width: 50%;}#sk-container-id-1 div.sk-parallel-item:only-child::after {width: 0;}#sk-container-id-1 div.sk-dashed-wrapped {border: 1px dashed gray;margin: 0 0.4em 0.5em 0.4em;box-sizing: border-box;padding-bottom: 0.4em;background-color: white;}#sk-container-id-1 div.sk-label label {font-family: monospace;font-weight: bold;display: inline-block;line-height: 1.2em;}#sk-container-id-1 div.sk-label-container {text-align: center;}#sk-container-id-1 div.sk-container {/* jupyter's `normalize.less` sets `[hidden] { display: none; }` but bootstrap.min.css set `[hidden] { display: none !important; }` so we also need the `!important` here to be able to override the default hidden behavior on the sphinx rendered scikit-learn.org. See: https://github.com/scikit-learn/scikit-learn/issues/21755 */display: inline-block !important;position: relative;}#sk-container-id-1 div.sk-text-repr-fallback {display: none;}</style><div id=\"sk-container-id-1\" class=\"sk-top-container\"><div class=\"sk-text-repr-fallback\"><pre>VotingClassifier(estimators=[(&#x27;gb_patient_data&#x27;,\n",
       "                              Pipeline(steps=[(&#x27;selector&#x27;, ColumnSelector()),\n",
       "                                              (&#x27;model&#x27;,\n",
       "                                               GradientBoostingClassifier(n_estimators=84,\n",
       "                                                                          warm_start=True))])),\n",
       "                             (&#x27;rf_patient_data&#x27;,\n",
       "                              Pipeline(steps=[(&#x27;selector&#x27;, ColumnSelector()),\n",
       "                                              (&#x27;model&#x27;,\n",
       "                                               RandomForestClassifier(n_estimators=47,\n",
       "                                                                      warm_start=True))])),\n",
       "                             (&#x27;rf_image&#x27;,\n",
       "                              Pipeline(steps=[(&#x27;selector&#x27;,\n",
       "                                               ColumnSelector(imageSelector=True)),\n",
       "                                              (&#x27;model&#x27;,\n",
       "                                               RandomForestClassifier(n_estimators=200,\n",
       "                                                                      warm_start=True))])),\n",
       "                             (&#x27;nn_image&#x27;,\n",
       "                              Pipeline(steps=[(&#x27;selector&#x27;,\n",
       "                                               ColumnSelector(imageSelector=True)),\n",
       "                                              (&#x27;model&#x27;,\n",
       "                                               MLPClassifier(hidden_layer_sizes=(128,\n",
       "                                                                                 64),\n",
       "                                                             max_iter=1000,\n",
       "                                                             random_state=42))]))],\n",
       "                 voting=&#x27;soft&#x27;)</pre><b>In a Jupyter environment, please rerun this cell to show the HTML representation or trust the notebook. <br />On GitHub, the HTML representation is unable to render, please try loading this page with nbviewer.org.</b></div><div class=\"sk-container\" hidden><div class=\"sk-item sk-dashed-wrapped\"><div class=\"sk-label-container\"><div class=\"sk-label sk-toggleable\"><input class=\"sk-toggleable__control sk-hidden--visually\" id=\"sk-estimator-id-1\" type=\"checkbox\" ><label for=\"sk-estimator-id-1\" class=\"sk-toggleable__label sk-toggleable__label-arrow\">VotingClassifier</label><div class=\"sk-toggleable__content\"><pre>VotingClassifier(estimators=[(&#x27;gb_patient_data&#x27;,\n",
       "                              Pipeline(steps=[(&#x27;selector&#x27;, ColumnSelector()),\n",
       "                                              (&#x27;model&#x27;,\n",
       "                                               GradientBoostingClassifier(n_estimators=84,\n",
       "                                                                          warm_start=True))])),\n",
       "                             (&#x27;rf_patient_data&#x27;,\n",
       "                              Pipeline(steps=[(&#x27;selector&#x27;, ColumnSelector()),\n",
       "                                              (&#x27;model&#x27;,\n",
       "                                               RandomForestClassifier(n_estimators=47,\n",
       "                                                                      warm_start=True))])),\n",
       "                             (&#x27;rf_image&#x27;,\n",
       "                              Pipeline(steps=[(&#x27;selector&#x27;,\n",
       "                                               ColumnSelector(imageSelector=True)),\n",
       "                                              (&#x27;model&#x27;,\n",
       "                                               RandomForestClassifier(n_estimators=200,\n",
       "                                                                      warm_start=True))])),\n",
       "                             (&#x27;nn_image&#x27;,\n",
       "                              Pipeline(steps=[(&#x27;selector&#x27;,\n",
       "                                               ColumnSelector(imageSelector=True)),\n",
       "                                              (&#x27;model&#x27;,\n",
       "                                               MLPClassifier(hidden_layer_sizes=(128,\n",
       "                                                                                 64),\n",
       "                                                             max_iter=1000,\n",
       "                                                             random_state=42))]))],\n",
       "                 voting=&#x27;soft&#x27;)</pre></div></div></div><div class=\"sk-parallel\"><div class=\"sk-parallel-item\"><div class=\"sk-item\"><div class=\"sk-label-container\"><div class=\"sk-label sk-toggleable\"><label>gb_patient_data</label></div></div><div class=\"sk-serial\"><div class=\"sk-item\"><div class=\"sk-serial\"><div class=\"sk-item\"><div class=\"sk-estimator sk-toggleable\"><input class=\"sk-toggleable__control sk-hidden--visually\" id=\"sk-estimator-id-2\" type=\"checkbox\" ><label for=\"sk-estimator-id-2\" class=\"sk-toggleable__label sk-toggleable__label-arrow\">ColumnSelector</label><div class=\"sk-toggleable__content\"><pre>ColumnSelector()</pre></div></div></div><div class=\"sk-item\"><div class=\"sk-estimator sk-toggleable\"><input class=\"sk-toggleable__control sk-hidden--visually\" id=\"sk-estimator-id-3\" type=\"checkbox\" ><label for=\"sk-estimator-id-3\" class=\"sk-toggleable__label sk-toggleable__label-arrow\">GradientBoostingClassifier</label><div class=\"sk-toggleable__content\"><pre>GradientBoostingClassifier(n_estimators=84, warm_start=True)</pre></div></div></div></div></div></div></div></div><div class=\"sk-parallel-item\"><div class=\"sk-item\"><div class=\"sk-label-container\"><div class=\"sk-label sk-toggleable\"><label>rf_patient_data</label></div></div><div class=\"sk-serial\"><div class=\"sk-item\"><div class=\"sk-serial\"><div class=\"sk-item\"><div class=\"sk-estimator sk-toggleable\"><input class=\"sk-toggleable__control sk-hidden--visually\" id=\"sk-estimator-id-4\" type=\"checkbox\" ><label for=\"sk-estimator-id-4\" class=\"sk-toggleable__label sk-toggleable__label-arrow\">ColumnSelector</label><div class=\"sk-toggleable__content\"><pre>ColumnSelector()</pre></div></div></div><div class=\"sk-item\"><div class=\"sk-estimator sk-toggleable\"><input class=\"sk-toggleable__control sk-hidden--visually\" id=\"sk-estimator-id-5\" type=\"checkbox\" ><label for=\"sk-estimator-id-5\" class=\"sk-toggleable__label sk-toggleable__label-arrow\">RandomForestClassifier</label><div class=\"sk-toggleable__content\"><pre>RandomForestClassifier(n_estimators=47, warm_start=True)</pre></div></div></div></div></div></div></div></div><div class=\"sk-parallel-item\"><div class=\"sk-item\"><div class=\"sk-label-container\"><div class=\"sk-label sk-toggleable\"><label>rf_image</label></div></div><div class=\"sk-serial\"><div class=\"sk-item\"><div class=\"sk-serial\"><div class=\"sk-item\"><div class=\"sk-estimator sk-toggleable\"><input class=\"sk-toggleable__control sk-hidden--visually\" id=\"sk-estimator-id-6\" type=\"checkbox\" ><label for=\"sk-estimator-id-6\" class=\"sk-toggleable__label sk-toggleable__label-arrow\">ColumnSelector</label><div class=\"sk-toggleable__content\"><pre>ColumnSelector(imageSelector=True)</pre></div></div></div><div class=\"sk-item\"><div class=\"sk-estimator sk-toggleable\"><input class=\"sk-toggleable__control sk-hidden--visually\" id=\"sk-estimator-id-7\" type=\"checkbox\" ><label for=\"sk-estimator-id-7\" class=\"sk-toggleable__label sk-toggleable__label-arrow\">RandomForestClassifier</label><div class=\"sk-toggleable__content\"><pre>RandomForestClassifier(n_estimators=200, warm_start=True)</pre></div></div></div></div></div></div></div></div><div class=\"sk-parallel-item\"><div class=\"sk-item\"><div class=\"sk-label-container\"><div class=\"sk-label sk-toggleable\"><label>nn_image</label></div></div><div class=\"sk-serial\"><div class=\"sk-item\"><div class=\"sk-serial\"><div class=\"sk-item\"><div class=\"sk-estimator sk-toggleable\"><input class=\"sk-toggleable__control sk-hidden--visually\" id=\"sk-estimator-id-8\" type=\"checkbox\" ><label for=\"sk-estimator-id-8\" class=\"sk-toggleable__label sk-toggleable__label-arrow\">ColumnSelector</label><div class=\"sk-toggleable__content\"><pre>ColumnSelector(imageSelector=True)</pre></div></div></div><div class=\"sk-item\"><div class=\"sk-estimator sk-toggleable\"><input class=\"sk-toggleable__control sk-hidden--visually\" id=\"sk-estimator-id-9\" type=\"checkbox\" ><label for=\"sk-estimator-id-9\" class=\"sk-toggleable__label sk-toggleable__label-arrow\">MLPClassifier</label><div class=\"sk-toggleable__content\"><pre>MLPClassifier(hidden_layer_sizes=(128, 64), max_iter=1000, random_state=42)</pre></div></div></div></div></div></div></div></div></div></div></div></div>"
      ],
      "text/plain": [
       "VotingClassifier(estimators=[('gb_patient_data',\n",
       "                              Pipeline(steps=[('selector', ColumnSelector()),\n",
       "                                              ('model',\n",
       "                                               GradientBoostingClassifier(n_estimators=84,\n",
       "                                                                          warm_start=True))])),\n",
       "                             ('rf_patient_data',\n",
       "                              Pipeline(steps=[('selector', ColumnSelector()),\n",
       "                                              ('model',\n",
       "                                               RandomForestClassifier(n_estimators=47,\n",
       "                                                                      warm_start=True))])),\n",
       "                             ('rf_image',\n",
       "                              Pipeline(steps=[('selector',\n",
       "                                               ColumnSelector(imageSelector=True)),\n",
       "                                              ('model',\n",
       "                                               RandomForestClassifier(n_estimators=200,\n",
       "                                                                      warm_start=True))])),\n",
       "                             ('nn_image',\n",
       "                              Pipeline(steps=[('selector',\n",
       "                                               ColumnSelector(imageSelector=True)),\n",
       "                                              ('model',\n",
       "                                               MLPClassifier(hidden_layer_sizes=(128,\n",
       "                                                                                 64),\n",
       "                                                             max_iter=1000,\n",
       "                                                             random_state=42))]))],\n",
       "                 voting='soft')"
      ]
     },
     "execution_count": 14,
     "metadata": {},
     "output_type": "execute_result"
    }
   ],
   "source": [
    "voting_classifier.fit(X_train_ensemble, y_train_ensemble)"
   ]
  },
  {
   "cell_type": "markdown",
   "id": "82e2bf64-217a-42ed-987a-94922fa4a06c",
   "metadata": {},
   "source": [
    "# Load test data"
   ]
  },
  {
   "cell_type": "code",
   "execution_count": 15,
   "id": "3c34dc19-6bba-49c2-9531-6cceae4ed56b",
   "metadata": {},
   "outputs": [
    {
     "name": "stdout",
     "output_type": "stream",
     "text": [
      "Merging         11\r"
     ]
    }
   ],
   "source": [
    "X_test, y_test = getXandY(11)"
   ]
  },
  {
   "cell_type": "markdown",
   "id": "aa575410-2a37-4917-8145-24adc16aaacc",
   "metadata": {},
   "source": [
    "# Evaluation"
   ]
  },
  {
   "cell_type": "code",
   "execution_count": 16,
   "id": "86410bb0",
   "metadata": {},
   "outputs": [],
   "source": [
    "def plot_confusion_matrix(cm, classes, normalize=False, title='Confusion matrix', cmap=plt.cm.Blues):\n",
    "    \"\"\"\n",
    "    This function prints and plots the confusion matrix.\n",
    "    Normalization can be applied by setting `normalize=True`.\n",
    "    \"\"\"\n",
    "    if normalize:\n",
    "        cm = cm.astype('float') / cm.sum(axis=1)[:, np.newaxis]\n",
    "        print(\"Normalized confusion matrix\")\n",
    "    else:\n",
    "        print('Confusion matrix, without normalization')\n",
    "\n",
    "    plt.imshow(cm, interpolation='nearest', cmap=cmap)\n",
    "    plt.title(title)\n",
    "    plt.colorbar()\n",
    "\n",
    "    tick_marks = np.arange(len(classes))\n",
    "    plt.xticks(tick_marks, classes, rotation=45)\n",
    "    plt.yticks(tick_marks, classes)\n",
    "\n",
    "    fmt = '.2f' if normalize else 'd'\n",
    "    thresh = cm.max() / 2.\n",
    "    for i, j in itertools.product(range(cm.shape[0]), range(cm.shape[1])):\n",
    "        plt.text(j, i, format(cm[i, j], fmt),\n",
    "                 horizontalalignment=\"center\",\n",
    "                 color=\"white\" if cm[i, j] > thresh else \"black\")\n",
    "\n",
    "    plt.ylabel('True label')\n",
    "    plt.xlabel('Predicted label')\n",
    "    plt.tight_layout()"
   ]
  },
  {
   "cell_type": "code",
   "execution_count": 17,
   "id": "04315efe",
   "metadata": {},
   "outputs": [],
   "source": [
    "def plot_roc_curve(y_true, y_pred_probs, classes, xlim=None, ylim=None):\n",
    "    \"\"\"\n",
    "    This function plots the ROC curve for each class and allows zooming in on a specific area.\n",
    "    \"\"\"\n",
    "    fpr = dict()\n",
    "    tpr = dict()\n",
    "    roc_auc = dict()\n",
    "\n",
    "    for i in range(len(classes)):\n",
    "        fpr[i], tpr[i], _ = roc_curve(y_true[:, i], y_pred_probs[:, i])\n",
    "        roc_auc[i] = auc(fpr[i], tpr[i])\n",
    "\n",
    "    plt.figure(figsize=(10, 6))\n",
    "    lw = 2\n",
    "    colors = ['darkorange', 'green', 'blue', 'red', 'purple'] \n",
    "\n",
    "    for i, color in zip(range(len(classes)), colors):\n",
    "        plt.plot(fpr[i], tpr[i], color=color, lw=lw,\n",
    "                 label='ROC ({}), area = {:.2f}'.format(classes[i], roc_auc[i]))\n",
    "\n",
    "    if xlim:\n",
    "        plt.xlim(xlim)\n",
    "    else:\n",
    "        plt.xlim([0.0, 1.0])\n",
    "\n",
    "    if ylim:\n",
    "        plt.ylim(ylim)\n",
    "    else:\n",
    "        plt.ylim([0.0, 1.05])\n",
    "\n",
    "    plt.xlabel('False Positive Rate')\n",
    "    plt.ylabel('True Positive Rate')\n",
    "    plt.title('ROC')\n",
    "    plt.legend(loc=\"lower right\")\n",
    "    plt.show()"
   ]
  },
  {
   "cell_type": "code",
   "execution_count": 18,
   "id": "8fb615c4",
   "metadata": {},
   "outputs": [],
   "source": [
    "def evaluate_model(model, X_test, y_test):\n",
    "    y_pred = model.predict(X_test)\n",
    "\n",
    "    print(np.unique(y_pred))\n",
    "    \n",
    "    # Confusion Matrix\n",
    "    cm = confusion_matrix(y_test, y_pred)\n",
    "    plot_confusion_matrix(cm, classes=[\"Class 0\", \"Class 1\", \"Class 2\", \"Class 3\"], normalize=True)\n",
    "\n",
    "    # Accuracy\n",
    "    accuracy = accuracy_score(y_test, y_pred)\n",
    "    \n",
    "    # Precision, Recall, F1 Score\n",
    "    precision = precision_score(y_test, y_pred, average='weighted')\n",
    "    \n",
    "    recall = recall_score(y_test, y_pred, average='weighted')\n",
    "    f1 = f1_score(y_test, y_pred, average='weighted')\n",
    "    \n",
    "    # ROC-AUC\n",
    "    y_pred_probs = model.predict_proba(X_test)\n",
    "    roc_auc = roc_auc_score(y_test, y_pred_probs, multi_class='ovr', average='weighted')\n",
    "    \n",
    "    y_true_binary = label_binarize(y_test, classes=[0, 1, 2, 3]) \n",
    "    plot_roc_curve(y_true_binary, y_pred_probs, classes=[\"Class 0\", \"Class 1\", \"Class 2\", \"Class 3\"])\n",
    "\n",
    "    # Example usage with custom axis limits\n",
    "    # For example, xlim=(0.0, 0.5), ylim=(0.t, 1.0), to display the upper left corner of the curve(s)\n",
    "    plot_roc_curve(y_true_binary, y_pred_probs, classes=[\"Class 0\", \"Class 1\", \"Class 2\", \"Class 3\"], xlim=(0.0, 0.4), ylim=(0.6, 1.0))\n",
    "\n",
    "    # Cohen's Kappa\n",
    "    kappa = cohen_kappa_score(y_test, y_pred)\n",
    "\n",
    "    # Matthew's Correlation Coefficient\n",
    "    mcc = matthews_corrcoef(y_test, y_pred)\n",
    "    \n",
    "    print(\"Accuracy: {:.4f}\".format(accuracy))\n",
    "    print(\"Precision: {:.4f}\".format(precision))\n",
    "    print(\"Recall: {:.4f}\".format(recall))\n",
    "    print(\"F1 Score: {:.4f}\".format(f1))\n",
    "    print(\"ROC-AUC: {:.4f}\\n\".format(roc_auc))\n",
    "    print(\"Classification Report:\\n\", classification_report(y_test, y_pred, target_names=[\"Class 0\", \"Class 1\", \"Class 2\", \"Class 3\"]))\n",
    "    print(\"Cohen's Kappa: {:.4f}\".format(kappa))\n",
    "    print(\"Matthew's Correlation Coefficient: {:.4f}\".format(mcc))"
   ]
  },
  {
   "cell_type": "code",
   "execution_count": 19,
   "id": "e55bdb4a",
   "metadata": {
    "scrolled": true
   },
   "outputs": [
    {
     "name": "stdout",
     "output_type": "stream",
     "text": [
      "[0 1 2 3]\n",
      "Normalized confusion matrix\n"
     ]
    },
    {
     "data": {
      "image/png": "[encoded data removed]",
      "text/plain": [
       "<Figure size 640x480 with 2 Axes>"
      ]
     },
     "metadata": {},
     "output_type": "display_data"
    },
    {
     "data": {
      "image/png": "[encoded data removed]",
      "text/plain": [
       "<Figure size 1000x600 with 1 Axes>"
      ]
     },
     "metadata": {},
     "output_type": "display_data"
    },
    {
     "data": {
      "image/png": "[encoded data removed]",
      "text/plain": [
       "<Figure size 1000x600 with 1 Axes>"
      ]
     },
     "metadata": {},
     "output_type": "display_data"
    },
    {
     "name": "stdout",
     "output_type": "stream",
     "text": [
      "Accuracy: 0.9679\n",
      "Precision: 0.9680\n",
      "Recall: 0.9679\n",
      "F1 Score: 0.9679\n",
      "ROC-AUC: 0.9962\n",
      "\n",
      "Classification Report:\n",
      "               precision    recall  f1-score   support\n",
      "\n",
      "     Class 0       0.98      0.96      0.97       901\n",
      "     Class 1       0.98      0.97      0.97       923\n",
      "     Class 2       0.95      0.98      0.96      1176\n",
      "     Class 3       0.97      0.97      0.97      1046\n",
      "\n",
      "    accuracy                           0.97      4046\n",
      "   macro avg       0.97      0.97      0.97      4046\n",
      "weighted avg       0.97      0.97      0.97      4046\n",
      "\n",
      "Cohen's Kappa: 0.9570\n",
      "Matthew's Correlation Coefficient: 0.9570\n"
     ]
    }
   ],
   "source": [
    "evaluate_model(voting_classifier, X_test, y_test)"
   ]
  },
  {
   "cell_type": "markdown",
   "id": "74b278e6-aadc-4bcc-ba0f-2ea5cc5ad905",
   "metadata": {},
   "source": [
    "# Modell kimentése a Frontendhez"
   ]
  },
  {
   "cell_type": "code",
   "execution_count": 20,
   "id": "893b0d53-726c-40be-8aa2-bef3cd901af9",
   "metadata": {},
   "outputs": [
    {
     "data": {
      "text/plain": [
       "['voting_classifier.joblib']"
      ]
     },
     "execution_count": 20,
     "metadata": {},
     "output_type": "execute_result"
    }
   ],
   "source": [
    "joblib.dump(voting_classifier, 'voting_classifier.joblib')"
   ]
  },
  {
   "cell_type": "code",
   "execution_count": null,
   "id": "b328b4d8-ae32-4ada-b819-1e0938c903f3",
   "metadata": {},
   "outputs": [],
   "source": []
  }
 ],
 "metadata": {
  "kernelspec": {
   "display_name": "Python 3 (ipykernel)",
   "language": "python",
   "name": "python3"
  },
  "language_info": {
   "codemirror_mode": {
    "name": "ipython",
    "version": 3
   },
   "file_extension": ".py",
   "mimetype": "text/x-python",
   "name": "python",
   "nbconvert_exporter": "python",
   "pygments_lexer": "ipython3",
   "version": "3.8.18"
  }
 },
 "nbformat": 4,
 "nbformat_minor": 5
}
