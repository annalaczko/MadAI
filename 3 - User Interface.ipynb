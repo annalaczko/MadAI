{
 "cells": [
  {
   "cell_type": "code",
   "execution_count": 12,
   "id": "e4867f21-acc8-4a8a-bb24-1403f40a7cf0",
   "metadata": {},
   "outputs": [],
   "source": [
    "import joblib\n",
    "import gradio as gr\n",
    "from PIL import Image\n",
    "import numpy as np\n",
    "import io\n",
    "import cv2\n",
    "import pandas as pd\n",
    "import pydicom\n",
    "from scipy.stats import mode\n",
    "from sklearn.ensemble import VotingClassifier\n",
    "from sklearn.base import BaseEstimator, TransformerMixin"
   ]
  },
  {
   "cell_type": "code",
   "execution_count": 13,
   "id": "bd2eb4aa-abe0-45d6-ad8a-117199d60f2a",
   "metadata": {},
   "outputs": [],
   "source": [
    "# column selector needed for pickle unload\n",
    "class ColumnSelector(BaseEstimator, TransformerMixin):\n",
    "    def __init__(self, imageSelector= False, isNn=False):\n",
    "        self.imageSelector = imageSelector\n",
    "        self.isNn = isNn\n",
    "\n",
    "    def fit(self, X, y=None):\n",
    "        return self\n",
    "\n",
    "    def transform(self, X):\n",
    "        if self.imageSelector:\n",
    "            return X['Image'].tolist()\n",
    "            #if self.isNn:\n",
    "                #return np.asarray(images)\n",
    "            #return images\n",
    "        return X.drop(['Image'], axis=1)\n"
   ]
  },
  {
   "cell_type": "code",
   "execution_count": 14,
   "id": "769e5b66-189b-4259-9cb3-f5ce17413546",
   "metadata": {},
   "outputs": [],
   "source": [
    "#megadott kép normalizálása\n",
    "\n",
    "def normalize(item):\n",
    "    pixel = item\n",
    "    minimum = pixel.min()\n",
    "    maximum = pixel.max()\n",
    "\n",
    "    if minimum < 0:\n",
    "        pixel = pixel + abs(minimum)\n",
    "        maximum += abs(minimum)\n",
    "        \n",
    "    if maximum != 0:\n",
    "        pixel = pixel / maximum\n",
    "    return pixel"
   ]
  },
  {
   "cell_type": "code",
   "execution_count": 15,
   "id": "4c2e79d0-b013-4ab5-9237-43f0ac446e0c",
   "metadata": {},
   "outputs": [],
   "source": [
    "#megadott kép előkészítése\n",
    "#ha képformátum, akkor 1 kép lesz összesen\n",
    "# ha dicom, akkor több is, ezt megnézi előtte\n",
    "# visszaad egy images nevű tömböt\n",
    "\n",
    "def preprocess_image(image, dicom, file_format):\n",
    "    num=1\n",
    "    if (file_format=='DICOM'):\n",
    "        num=len(dicom)\n",
    "    images=[]\n",
    "    \n",
    "    for i in range(num):\n",
    "        if (file_format=='DICOM'):\n",
    "            dicom_image=pydicom.dcmread(dicom[i])  \n",
    "            gray_image=dicom_image.pixel_array\n",
    "        else:\n",
    "            img = Image.fromarray(np.uint8(image))   \n",
    "            gray_image = img.convert('L')\n",
    "        \n",
    "        image_array = np.array(gray_image)\n",
    "        resized_image = cv2.resize(image_array, (256, 256))\n",
    "        normalized_image=normalize(resized_image)\n",
    "        images.append(normalized_image)\n",
    "\n",
    "    return images"
   ]
  },
  {
   "cell_type": "code",
   "execution_count": 16,
   "id": "47cbcd5b-72ee-40eb-aba2-04c3d34f3d4a",
   "metadata": {},
   "outputs": [],
   "source": [
    "#preprocessing. Annyi sort hoz létre a dataframeben ahány kép van. A táblázatos adatok ugyanazok mindenhol. Visszaadja a kész dataframe-t\n",
    "\n",
    "def preprocessing (gender, age_group, file_format, dicom, image):\n",
    "    cols=['Is_Male', 'Age_Group_3', 'Age_Group_4', 'Age_Group_5', 'Age_Group_6', 'Age_Group_7', 'Age_Group_8', 'Image']\n",
    "    cols_age=[ 'Age_Group_3', 'Age_Group_4', 'Age_Group_5', 'Age_Group_6', 'Age_Group_7', 'Age_Group_8']\n",
    "    df = pd.DataFrame(columns=cols)\n",
    "    \n",
    "    #image\n",
    "    proc_img=preprocess_image(image, dicom, file_format)\n",
    "    if (len(proc_img)==1):\n",
    "        df.loc[0, 'Image']=proc_img\n",
    "    else:\n",
    "        for i in range(len(proc_img)):\n",
    "            df.loc[i, 'Image']=proc_img[i]\n",
    "\n",
    "    df['Image'] = df['Image'].apply(lambda x: np.array(x).flatten())\n",
    "    \n",
    "    #age_group\n",
    "    for item in cols_age:\n",
    "        if (int(item[10])==int(age_group[0])-1):\n",
    "            df[item]=True\n",
    "        else:\n",
    "            df[item]=False\n",
    "    #gender\n",
    "    if (gender=='Male'):\n",
    "        df['Is_Male']=True\n",
    "    else:\n",
    "        df['Is_Male']=False\n",
    "\n",
    "    return df"
   ]
  },
  {
   "cell_type": "code",
   "execution_count": 19,
   "id": "e302776a-9edf-44c8-a67b-3b149c031d36",
   "metadata": {},
   "outputs": [],
   "source": [
    "#betölti az előtrainelt modelleket, prediktál. \n",
    "#ha egy kép/dicom fájl van, akkor csak kiírja a diagnózist\n",
    "# ha több dicom fájl van akkor a módusz a diagnózis, és és a számosságuk/összes fájl lesz a százalék hogy milyen bizonyossággal az a betegség\n",
    "\n",
    "def model_predict(gender, age_group, file_format, dicom, image):\n",
    "    df=preprocessing(gender, age_group, file_format, dicom, image)\n",
    "    voting_classifier=joblib.load('voting_classifier.joblib')\n",
    "\n",
    "    #df_image=df['Image'].tolist()\n",
    "    #df_patient_data=df.drop('Image', axis=1)\n",
    "\n",
    "    y_image=voting_classifier.predict(df)\n",
    "\n",
    "    labels = {0: 'Normal', 1: 'Heart failure with infarct', 2: 'Heart failure without infarct', 3: 'Hypertrophy'}\n",
    "\n",
    "    if (len(y_image)==1):\n",
    "        return labels[y_image[0]]\n",
    "    else:\n",
    "        result=mode(y_image)\n",
    "        string=f\"{labels[result.mode]} with an {result.count/len(y_image)*100}% certainty\"\n",
    "        return string"
   ]
  },
  {
   "cell_type": "code",
   "execution_count": 20,
   "id": "2bbe7167-e4d2-4c24-a022-502f196717f5",
   "metadata": {},
   "outputs": [
    {
     "name": "stdout",
     "output_type": "stream",
     "text": [
      "Running on local URL:  http://127.0.0.1:7864\n",
      "Running on public URL: https://fa4d084bb720f49d7d.gradio.live\n",
      "\n",
      "This share link expires in 72 hours. For free permanent hosting and GPU upgrades, run `gradio deploy` from Terminal to deploy to Spaces (https://huggingface.co/spaces)\n"
     ]
    },
    {
     "data": {
      "text/html": [
       "<div><iframe src=\"https://fa4d084bb720f49d7d.gradio.live\" width=\"100%\" height=\"500\" allow=\"autoplay; camera; microphone; clipboard-read; clipboard-write;\" frameborder=\"0\" allowfullscreen></iframe></div>"
      ],
      "text/plain": [
       "<IPython.core.display.HTML object>"
      ]
     },
     "metadata": {},
     "output_type": "display_data"
    }
   ],
   "source": [
    "#gradio UI inicializálása és indítása\n",
    "\n",
    "options_gender= ['Female', 'Male']\n",
    "options_age_group=['40 or younger', '41-50', '51-60', '61-70', '71-80', '81 or older']\n",
    "options_file_upload=['DICOM', 'Other Image Format']\n",
    "\n",
    "demo = gr.Interface(\n",
    "    fn=model_predict,\n",
    "    inputs=[\n",
    "        gr.Radio(options_gender, label=\"Patient's gender\"),\n",
    "        gr.Radio(options_age_group, label=\"Patient's age\"),\n",
    "        gr.Radio(options_file_upload, label=\"Choose your file format! You can upload several files with dicom format, but only one image\"), \n",
    "        gr.File(label=\"Upload your DICOM file!\", file_count='multiple'),\n",
    "        gr.Image(label='Upload your picture!')],\n",
    "    outputs=gr.Textbox(label=\"Diagnosis\")\n",
    ")\n",
    "    \n",
    "if __name__ == \"__main__\":\n",
    "    demo.launch(inbrowser=True, show_api=False, share=True)   "
   ]
  },
  {
   "cell_type": "code",
   "execution_count": null,
   "id": "1d9e996b-d159-41b8-9598-47760d967a67",
   "metadata": {},
   "outputs": [],
   "source": []
  }
 ],
 "metadata": {
  "kernelspec": {
   "display_name": "Python 3 (ipykernel)",
   "language": "python",
   "name": "python3"
  },
  "language_info": {
   "codemirror_mode": {
    "name": "ipython",
    "version": 3
   },
   "file_extension": ".py",
   "mimetype": "text/x-python",
   "name": "python",
   "nbconvert_exporter": "python",
   "pygments_lexer": "ipython3",
   "version": "3.11.6"
  }
 },
 "nbformat": 4,
 "nbformat_minor": 5
}
