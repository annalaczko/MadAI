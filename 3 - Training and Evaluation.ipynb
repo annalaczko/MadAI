{
 "cells": [
  {
   "cell_type": "code",
   "execution_count": 4,
   "id": "ed5c4d2c-7a3e-40aa-b570-b8c6e9cea84b",
   "metadata": {},
   "outputs": [
    {
     "ename": "ModuleNotFoundError",
     "evalue": "No module named 'sklearn.ensemble'",
     "output_type": "error",
     "traceback": [
      "\u001b[1;31m---------------------------------------------------------------------------\u001b[0m",
      "\u001b[1;31mModuleNotFoundError\u001b[0m                       Traceback (most recent call last)",
      "Cell \u001b[1;32mIn[4], line 8\u001b[0m\n\u001b[0;32m      6\u001b[0m \u001b[38;5;28;01mfrom\u001b[39;00m \u001b[38;5;21;01mitertools\u001b[39;00m \u001b[38;5;28;01mimport\u001b[39;00m islice\n\u001b[0;32m      7\u001b[0m \u001b[38;5;28;01mimport\u001b[39;00m \u001b[38;5;21;01mrandom\u001b[39;00m\n\u001b[1;32m----> 8\u001b[0m \u001b[38;5;28;01mfrom\u001b[39;00m \u001b[38;5;21;01msklearn\u001b[39;00m\u001b[38;5;21;01m.\u001b[39;00m\u001b[38;5;21;01mensemble\u001b[39;00m \u001b[38;5;28;01mimport\u001b[39;00m RandomForestClassifier\n\u001b[0;32m      9\u001b[0m \u001b[38;5;28;01mfrom\u001b[39;00m \u001b[38;5;21;01msklearn\u001b[39;00m\u001b[38;5;21;01m.\u001b[39;00m\u001b[38;5;21;01mmodel_selection\u001b[39;00m \u001b[38;5;28;01mimport\u001b[39;00m train_test_split\n\u001b[0;32m     10\u001b[0m \u001b[38;5;28;01mfrom\u001b[39;00m \u001b[38;5;21;01msklearn\u001b[39;00m\u001b[38;5;21;01m.\u001b[39;00m\u001b[38;5;21;01mmetrics\u001b[39;00m \u001b[38;5;28;01mimport\u001b[39;00m accuracy_score, classification_report, confusion_matrix, accuracy_score, precision_score, recall_score, f1_score, roc_auc_score, roc_curve, auc, cohen_kappa_score, matthews_corrcoef\n",
      "\u001b[1;31mModuleNotFoundError\u001b[0m: No module named 'sklearn.ensemble'"
     ]
    }
   ],
   "source": [
    "import pandas as pd\n",
    "import numpy as np\n",
    "import joblib\n",
    "import matplotlib.pyplot as plt\n",
    "import seaborn as sns\n",
    "from itertools import islice\n",
    "import random\n",
    "from sklearn.ensemble import RandomForestClassifier\n",
    "from sklearn.model_selection import train_test_split\n",
    "from sklearn.metrics import accuracy_score, classification_report, confusion_matrix, accuracy_score, precision_score, recall_score, f1_score, roc_auc_score, roc_curve, auc, cohen_kappa_score, matthews_corrcoef\n",
    "from keras.utils import to_categorical\n",
    "from sklearn.preprocessing import label_binarize\n",
    "from sklearn.ensemble import VotingClassifier\n",
    "from sklearn.base import BaseEstimator, TransformerMixin\n",
    "from sklearn.compose import ColumnTransformer\n",
    "from sklearn.pipeline import Pipeline\n",
    "from sklearn.ensemble import GradientBoostingClassifier\n",
    "from sklearn.neural_network import MLPClassifier\n",
    "import itertools"
   ]
  },
  {
   "cell_type": "markdown",
   "id": "bc67c4b1-fd9d-47e0-b485-ebf44ca2c06c",
   "metadata": {},
   "source": [
    "# Adatbeolvasás"
   ]
  },
  {
   "cell_type": "markdown",
   "id": "88585a3c-d375-4c8b-9b37-1af3adeea836",
   "metadata": {},
   "source": [
    "## Patientdata\n",
    "Az eredeti csv feldolgozása már tanulásra előkészített adatokkal"
   ]
  },
  {
   "cell_type": "code",
   "execution_count": null,
   "id": "dce405d3-c23a-4004-b647-1118a8ec86b8",
   "metadata": {},
   "outputs": [],
   "source": [
    "readIn = pd.read_csv(\"data/df_patientdata.csv\")\n",
    "df_patientdata= pd.DataFrame(readIn)"
   ]
  },
  {
   "cell_type": "code",
   "execution_count": null,
   "id": "5a3e2549-e89c-4937-aa21-ccdaecd52087",
   "metadata": {},
   "outputs": [],
   "source": [
    "df_patientdata.head(3)"
   ]
  },
  {
   "cell_type": "markdown",
   "id": "6697300b-6414-4227-84c0-c527cf819eed",
   "metadata": {},
   "source": [
    "## Image data\n",
    "A dicom fájlokból egységesített, normalizált képek. \n",
    "- Numpy tömbben\n",
    "- Méretük: (256,256)\n",
    "- Minden pixelhez csak egy érték tartozik, értékük 0-1 között van"
   ]
  },
  {
   "cell_type": "markdown",
   "id": "4aaf4eca-adcb-4a64-a261-45384136a4cc",
   "metadata": {},
   "source": [
    "Disclaimer!! Ez pár percig el fog tartani"
   ]
  },
  {
   "cell_type": "markdown",
   "id": "b6d6f83e-c302-443e-a43e-8212bbe81e6b",
   "metadata": {},
   "source": [
    "# Effective data loading"
   ]
  },
  {
   "cell_type": "markdown",
   "id": "91927bf5-58ff-48d3-a1bd-c8ba49abcccd",
   "metadata": {},
   "source": [
    "Load and train models in batches. The prepared data is stored in `data/images_splitX.npz`.\n",
    "\n",
    "There are 12 data files:\n",
    "- **0-8** for training the **individual models**\n",
    "- **9-10** for training the **Voting classifier**\n",
    "- **11** for **testing and evaluating**\n",
    "\n",
    "The saved data is already shuffled."
   ]
  },
  {
   "cell_type": "code",
   "execution_count": null,
   "id": "47bd4bf1-5876-495e-91ec-d187505dc890",
   "metadata": {},
   "outputs": [],
   "source": [
    "split_num=9"
   ]
  },
  {
   "cell_type": "code",
   "execution_count": null,
   "id": "6dca278f-e35b-4826-840b-966885af7c05",
   "metadata": {},
   "outputs": [],
   "source": [
    "# Read \n",
    "def getXandY(splitNum):\n",
    "    base_name='data/images'\n",
    "    split_name = f'{base_name}_split{splitNum}.npz'\n",
    "    data = np.load(split_name, allow_pickle=True)\n",
    "    data_images=data['images']\n",
    "    data_ids=data['ids']\n",
    "    print(f'Merging         {splitNum}', end='\\r')\n",
    "    image_data=[]\n",
    "    for id, image in zip(data_ids, data_images):\n",
    "        image_data.append([id, image.flatten()])\n",
    "\n",
    "    del data_images\n",
    "    del data_ids\n",
    "\n",
    "    df_images =pd.DataFrame(image_data, columns=['PatientID', 'Image'])\n",
    "\n",
    "    del image_data\n",
    "    \n",
    "    merged_df = pd.merge(df_patientdata, df_images, on='PatientID', how='inner')\n",
    "\n",
    "    X = merged_df.drop(['PatientID', 'Pathology'], axis=1)\n",
    "    y = merged_df['Pathology']\n",
    "    return X, y"
   ]
  },
  {
   "cell_type": "markdown",
   "id": "024ec5bd-b0c7-45b7-8199-71e9b7c53436",
   "metadata": {},
   "source": [
    "# Training"
   ]
  },
  {
   "cell_type": "markdown",
   "id": "7ea37c5c-8b3a-4332-b66d-580ce79cef6a",
   "metadata": {},
   "source": [
    "## Individual model training"
   ]
  },
  {
   "cell_type": "code",
   "execution_count": null,
   "id": "93f2e0a7-0a58-4437-bbf2-fc003a23b6dc",
   "metadata": {},
   "outputs": [],
   "source": [
    "class IndividualModelTrainer:\n",
    "    def __init__(self, split_num):\n",
    "        self.split_num = split_num\n",
    "        self.randomForest_i = RandomForestClassifier(n_estimators=20, warm_start=True)\n",
    "        self.randomForest_pd = RandomForestClassifier(n_estimators=20, warm_start=True)\n",
    "        self.gradBoosting_pd = GradientBoostingClassifier(n_estimators=30, warm_start=True)\n",
    "        self.nn_i = MLPClassifier(hidden_layer_sizes=(128, 64), max_iter=1000, random_state=42)\n",
    "        self.nn_initialized = False\n",
    "        \n",
    "    def training_for_sklearn(self):\n",
    "        base_name='data/images'\n",
    "        for i in range(split_num):\n",
    "            print(f'Processing      {i}', end='\\r')\n",
    "            X_train, y_train = getXandY(i)\n",
    "        \n",
    "            X_image_train = X_train['Image'].tolist()\n",
    "            X_patient_data_train = X_train.drop(['Image'], axis=1)\n",
    "        \n",
    "            print(f'Training images {i}', end='\\r')\n",
    "            self.train_image_classifiers(X_image_train, y_train)\n",
    "            print(f'Training csv    {i}', end='\\r')\n",
    "            self.train_patient_data_classifiers(X_patient_data_train, y_train)\n",
    "\n",
    "    def train_image_classifiers(self, X_image_train, y_train):\n",
    "        self.randomForest_i.fit(X_image_train, y_train)\n",
    "        self.randomForest_i.n_estimators+=20\n",
    "        if self.nn_initialized:\n",
    "            self.nn_i.partial_fit(X_image_train, y_train)\n",
    "        else:\n",
    "            self.nn_i.partial_fit(X_image_train, y_train, classes=[0, 1, 2, 3])\n",
    "            self.nn_initialized = True\n",
    "        \n",
    "\n",
    "    def train_patient_data_classifiers(self, X_patient_data_train, y_train):\n",
    "        self.randomForest_pd.fit(X_patient_data_train, y_train)\n",
    "        self.gradBoosting_pd.fit(X_patient_data_train, y_train)\n",
    "        self.randomForest_pd.n_estimators+=3\n",
    "        self.gradBoosting_pd.n_estimators+=6"
   ]
  },
  {
   "cell_type": "code",
   "execution_count": null,
   "id": "c9113a58-8425-4be8-b257-760b6fa062b3",
   "metadata": {},
   "outputs": [],
   "source": [
    "individualModelTrainer = IndividualModelTrainer(split_num)"
   ]
  },
  {
   "cell_type": "code",
   "execution_count": null,
   "id": "bc681743-e2fc-4d9e-b090-bf92e0267c4a",
   "metadata": {},
   "outputs": [],
   "source": [
    "individualModelTrainer.training_for_sklearn()"
   ]
  },
  {
   "cell_type": "markdown",
   "id": "19eb5000-d1eb-40cf-b673-f1efd2de04bf",
   "metadata": {},
   "source": [
    "## Voting classifier"
   ]
  },
  {
   "cell_type": "markdown",
   "id": "ff1ef5bb-ae3c-4c5e-a87c-20930f25c0f6",
   "metadata": {},
   "source": [
    "### Load ensemble data"
   ]
  },
  {
   "cell_type": "code",
   "execution_count": null,
   "id": "6a46c1cd-76d3-4374-84c2-a5d01cc9c31d",
   "metadata": {},
   "outputs": [],
   "source": [
    "X_train_ensemble, y_train_ensemble = getXandY(9)"
   ]
  },
  {
   "cell_type": "markdown",
   "id": "9660a22a-a682-4974-8096-081258e411c1",
   "metadata": {},
   "source": [
    "### Create voting classifier"
   ]
  },
  {
   "cell_type": "code",
   "execution_count": null,
   "id": "17313c10-e02b-4b2d-abdb-273695a2dcb9",
   "metadata": {},
   "outputs": [],
   "source": [
    "class ColumnSelector(BaseEstimator, TransformerMixin):\n",
    "    def __init__(self, imageSelector= False, isNn=False):\n",
    "        self.imageSelector = imageSelector\n",
    "        self.isNn = isNn\n",
    "\n",
    "    def fit(self, X, y=None):\n",
    "        return self\n",
    "\n",
    "    def transform(self, X):\n",
    "        if self.imageSelector:\n",
    "            return X['Image'].tolist()\n",
    "            #if self.isNn:\n",
    "                #return np.asarray(images)\n",
    "            #return images\n",
    "        return X.drop(['Image'], axis=1)"
   ]
  },
  {
   "cell_type": "code",
   "execution_count": null,
   "id": "4be44161-c7c4-4e9d-8ffa-5c7dcdd23675",
   "metadata": {},
   "outputs": [],
   "source": [
    "patient_data_transformer = ColumnSelector()\n",
    "image_transformer = ColumnSelector(imageSelector=True)"
   ]
  },
  {
   "cell_type": "code",
   "execution_count": null,
   "id": "32a981b2-3844-4292-b456-cfcd93de2d13",
   "metadata": {},
   "outputs": [],
   "source": [
    "estimators = [\n",
    "    ('gb_patient_data', Pipeline([('selector', patient_data_transformer), ('model', individualModelTrainer.gradBoosting_pd)])),\n",
    "    ('rf_patient_data', Pipeline([('selector', patient_data_transformer), ('model', individualModelTrainer.randomForest_pd)])),\n",
    "    ('rf_image', Pipeline([('selector', image_transformer), ('model', individualModelTrainer.randomForest_i)])),\n",
    "    ('nn_image', Pipeline([('selector', image_transformer), ('model', individualModelTrainer.nn_i)])),\n",
    "    # Add more models if desired\n",
    "]"
   ]
  },
  {
   "cell_type": "code",
   "execution_count": null,
   "id": "d7ac5bda-dd1b-4dc1-89ad-58b906ef1b95",
   "metadata": {},
   "outputs": [],
   "source": [
    "voting_classifier = VotingClassifier(estimators, voting='soft')"
   ]
  },
  {
   "cell_type": "markdown",
   "id": "13de08c4-6c7b-4bbb-b2a6-d65167a96557",
   "metadata": {},
   "source": [
    "### Train voting classifier"
   ]
  },
  {
   "cell_type": "code",
   "execution_count": null,
   "id": "357944c2-2d62-488f-b4f4-eff342f0006f",
   "metadata": {},
   "outputs": [],
   "source": [
    "voting_classifier.fit(X_train_ensemble, y_train_ensemble)"
   ]
  },
  {
   "cell_type": "markdown",
   "id": "82e2bf64-217a-42ed-987a-94922fa4a06c",
   "metadata": {},
   "source": [
    "# Load test data"
   ]
  },
  {
   "cell_type": "code",
   "execution_count": null,
   "id": "3c34dc19-6bba-49c2-9531-6cceae4ed56b",
   "metadata": {},
   "outputs": [],
   "source": [
    "X_test, y_test = getXandY(11)"
   ]
  },
  {
   "cell_type": "markdown",
   "id": "aa575410-2a37-4917-8145-24adc16aaacc",
   "metadata": {},
   "source": [
    "# Evaluation"
   ]
  },
  {
   "cell_type": "markdown",
   "id": "8dd3d66a",
   "metadata": {},
   "source": [
    "Teljesítményértékelő metrikák többosztályos klasszifikációs problémákhoz:\n",
    "\n",
    "    - Confusion Matrix (--> accuracy, precision, recall, F1 score)\n",
    "    - ROC-AUC\n",
    "    \n",
    "ToDo a végleges leadásra: vizualizáció"
   ]
  },
  {
   "cell_type": "code",
   "execution_count": null,
   "id": "86410bb0",
   "metadata": {},
   "outputs": [],
   "source": [
    "def plot_confusion_matrix(cm, classes, normalize=False, title='Confusion matrix', cmap=plt.cm.Blues):\n",
    "    \"\"\"\n",
    "    This function prints and plots the confusion matrix.\n",
    "    Normalization can be applied by setting `normalize=True`.\n",
    "    \"\"\"\n",
    "    if normalize:\n",
    "        cm = cm.astype('float') / cm.sum(axis=1)[:, np.newaxis]\n",
    "        print(\"Normalized confusion matrix\")\n",
    "    else:\n",
    "        print('Confusion matrix, without normalization')\n",
    "\n",
    "    plt.imshow(cm, interpolation='nearest', cmap=cmap)\n",
    "    plt.title(title)\n",
    "    plt.colorbar()\n",
    "\n",
    "    tick_marks = np.arange(len(classes))\n",
    "    plt.xticks(tick_marks, classes, rotation=45)\n",
    "    plt.yticks(tick_marks, classes)\n",
    "\n",
    "    fmt = '.2f' if normalize else 'd'\n",
    "    thresh = cm.max() / 2.\n",
    "    for i, j in itertools.product(range(cm.shape[0]), range(cm.shape[1])):\n",
    "        plt.text(j, i, format(cm[i, j], fmt),\n",
    "                 horizontalalignment=\"center\",\n",
    "                 color=\"white\" if cm[i, j] > thresh else \"black\")\n",
    "\n",
    "    plt.ylabel('True label')\n",
    "    plt.xlabel('Predicted label')\n",
    "    plt.tight_layout()"
   ]
  },
  {
   "cell_type": "code",
   "execution_count": null,
   "id": "04315efe",
   "metadata": {},
   "outputs": [],
   "source": [
    "def plot_roc_curve(y_true, y_pred_probs, classes, xlim=None, ylim=None):\n",
    "    \"\"\"\n",
    "    This function plots the ROC curve for each class and allows zooming in on a specific area.\n",
    "    \"\"\"\n",
    "    fpr = dict()\n",
    "    tpr = dict()\n",
    "    roc_auc = dict()\n",
    "\n",
    "    for i in range(len(classes)):\n",
    "        fpr[i], tpr[i], _ = roc_curve(y_true[:, i], y_pred_probs[:, i])\n",
    "        roc_auc[i] = auc(fpr[i], tpr[i])\n",
    "\n",
    "    plt.figure(figsize=(10, 6))\n",
    "    lw = 2\n",
    "    colors = ['darkorange', 'green', 'blue', 'red', 'purple']  # Adjust the colors based on the number of classes\n",
    "\n",
    "    for i, color in zip(range(len(classes)), colors):\n",
    "        plt.plot(fpr[i], tpr[i], color=color, lw=lw,\n",
    "                 label='ROC ({}), area = {:.2f}'.format(classes[i], roc_auc[i]))\n",
    "\n",
    "    # Set custom axis limits if provided\n",
    "    if xlim:\n",
    "        plt.xlim(xlim)\n",
    "    else:\n",
    "        plt.xlim([0.0, 1.0])\n",
    "\n",
    "    if ylim:\n",
    "        plt.ylim(ylim)\n",
    "    else:\n",
    "        plt.ylim([0.0, 1.05])\n",
    "\n",
    "    plt.xlabel('False Positive Rate')\n",
    "    plt.ylabel('True Positive Rate')\n",
    "    plt.title('ROC')\n",
    "    plt.legend(loc=\"lower right\")\n",
    "    plt.show()"
   ]
  },
  {
   "cell_type": "code",
   "execution_count": null,
   "id": "8fb615c4",
   "metadata": {},
   "outputs": [],
   "source": [
    "def evaluate_model(model, X_test, y_test):\n",
    "    y_pred = model.predict(X_test)\n",
    "\n",
    "    print(np.unique(y_pred))\n",
    "    \n",
    "    # Confusion Matrix\n",
    "    cm = confusion_matrix(y_test, y_pred)\n",
    "    plot_confusion_matrix(cm, classes=[\"Class 0\", \"Class 1\", \"Class 2\", \"Class 3\"], normalize=True)\n",
    "\n",
    "    # Accuracy\n",
    "    accuracy = accuracy_score(y_test, y_pred)\n",
    "    \n",
    "    # Precision, Recall, F1 Score\n",
    "    precision = precision_score(y_test, y_pred, average='weighted')\n",
    "    \n",
    "    recall = recall_score(y_test, y_pred, average='weighted')\n",
    "    f1 = f1_score(y_test, y_pred, average='weighted')\n",
    "    \n",
    "    # ROC-AUC\n",
    "    y_pred_probs = model.predict_proba(X_test)\n",
    "    roc_auc = roc_auc_score(y_test, y_pred_probs, multi_class='ovr', average='weighted')\n",
    "    \n",
    "    y_true_binary = label_binarize(y_test, classes=[0, 1, 2, 3]) \n",
    "    plot_roc_curve(y_true_binary, y_pred_probs, classes=[\"Class 0\", \"Class 1\", \"Class 2\", \"Class 3\"])\n",
    "\n",
    "    # Example usage with custom axis limits\n",
    "    # Adjust the values of xlim and ylim as needed\n",
    "    # For example, xlim=(0.0, 0.5), ylim=(0.6, 1.0)\n",
    "    # If not specified, the default limits will be used\n",
    "    plot_roc_curve(y_true_binary, y_pred_probs, classes=[\"Class 0\", \"Class 1\", \"Class 2\", \"Class 3\"], xlim=(0.0, 0.5), ylim=(0.6, 1.0))\n",
    "\n",
    "    # Cohen's Kappa\n",
    "    kappa = cohen_kappa_score(y_test, y_pred)\n",
    "\n",
    "    # Matthew's Correlation Coefficient\n",
    "    mcc = matthews_corrcoef(y_test, y_pred)\n",
    "    \n",
    "    print(\"Accuracy: {:.4f}\".format(accuracy))\n",
    "    print(\"Precision: {:.4f}\".format(precision))\n",
    "    print(\"Recall: {:.4f}\".format(recall))\n",
    "    print(\"F1 Score: {:.4f}\".format(f1))\n",
    "    print(\"ROC-AUC: {:.4f}\\n\".format(roc_auc))\n",
    "    print(\"Classification Report:\\n\", classification_report(y_test, y_pred, target_names=[\"Class 0\", \"Class 1\", \"Class 2\", \"Class 3\"]))\n",
    "    print(\"Cohen's Kappa: {:.4f}\".format(kappa))\n",
    "    print(\"Matthew's Correlation Coefficient: {:.4f}\".format(mcc))"
   ]
  },
  {
   "cell_type": "code",
   "execution_count": null,
   "id": "e55bdb4a",
   "metadata": {
    "scrolled": true
   },
   "outputs": [],
   "source": [
    "evaluate_model(voting_classifier, X_test, y_test)"
   ]
  },
  {
   "cell_type": "markdown",
   "id": "74b278e6-aadc-4bcc-ba0f-2ea5cc5ad905",
   "metadata": {},
   "source": [
    "# Modell kimentése a Frontendhez"
   ]
  },
  {
   "cell_type": "code",
   "execution_count": null,
   "id": "893b0d53-726c-40be-8aa2-bef3cd901af9",
   "metadata": {},
   "outputs": [],
   "source": [
    "joblib.dump(voting_classifier, 'voting_classifier.joblib')"
   ]
  },
  {
   "cell_type": "code",
   "execution_count": null,
   "id": "5afc2dca-4898-4709-8e8e-f455dbed7c9f",
   "metadata": {},
   "outputs": [],
   "source": []
  },
  {
   "cell_type": "code",
   "execution_count": null,
   "id": "63c70328-fcb5-4b9f-9992-d97d253eda3e",
   "metadata": {},
   "outputs": [],
   "source": []
  }
 ],
 "metadata": {
  "kernelspec": {
   "display_name": "Python 3 (ipykernel)",
   "language": "python",
   "name": "python3"
  },
  "language_info": {
   "codemirror_mode": {
    "name": "ipython",
    "version": 3
   },
   "file_extension": ".py",
   "mimetype": "text/x-python",
   "name": "python",
   "nbconvert_exporter": "python",
   "pygments_lexer": "ipython3",
   "version": "3.8.18"
  }
 },
 "nbformat": 4,
 "nbformat_minor": 5
}
