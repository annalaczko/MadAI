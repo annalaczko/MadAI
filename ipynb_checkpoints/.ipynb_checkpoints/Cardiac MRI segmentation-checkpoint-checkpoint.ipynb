{
 "cells": [
  {
   "cell_type": "markdown",
   "id": "9f043210",
   "metadata": {},
   "source": [
    "# Imports"
   ]
  },
  {
   "cell_type": "code",
   "execution_count": 1,
   "id": "cd914e73",
   "metadata": {},
   "outputs": [],
   "source": [
    "# pip install simpleitk pydicom imageio --> ezt az első lokális futtatásnál kommenteljétek ki"
   ]
  },
  {
   "cell_type": "code",
   "execution_count": 2,
   "id": "b91fdcb9",
   "metadata": {},
   "outputs": [],
   "source": [
    "!git config --global core.autocrlf true"
   ]
  },
  {
   "cell_type": "code",
   "execution_count": 4,
   "id": "9a61234a",
   "metadata": {},
   "outputs": [],
   "source": [
    "import pandas as pd\n",
    "import os\n",
    "import SimpleITK as sitk\n",
    "import numpy as np\n",
    "import imageio\n",
    "import matplotlib.pyplot as plt\n",
    "import seaborn as sb"
   ]
  },
  {
   "cell_type": "code",
   "execution_count": null,
   "id": "4d9b9e4b",
   "metadata": {},
   "outputs": [],
   "source": [
    "readIn = pd.read_csv(\"scd_patientdata.csv\")\n",
    "df_patientdata = pd.DataFrame(readIn)\n",
    "pd.set_option(\"display.max_columns\", None)\n",
    "print(df_patientdata.shape)"
   ]
  },
  {
   "cell_type": "code",
   "execution_count": null,
   "id": "058296f6",
   "metadata": {},
   "outputs": [],
   "source": [
    "df_patientdata"
   ]
  },
  {
   "cell_type": "code",
   "execution_count": null,
   "id": "d6076151",
   "metadata": {},
   "outputs": [],
   "source": [
    "df_patientdata.info()"
   ]
  },
  {
   "cell_type": "code",
   "execution_count": null,
   "id": "f646486c",
   "metadata": {},
   "outputs": [],
   "source": [
    "# Get the directory of the current script or notebook\n",
    "script_dir = os.path.dirname(os.path.abspath('Cardiac MRI segmentation.ipynb'))\n",
    "\n",
    "# Construct the relative path to the data folder\n",
    "data_folder = os.path.join(script_dir, 'archive', 'SunnyBrook-Cardiac-MR')\n",
    "\n",
    "# Initialize a dictionary to store files\n",
    "files = {}\n",
    "\n",
    "# Loop through the subdirectories within the specified path\n",
    "for dirname, _, filenames in os.walk(data_folder):\n",
    "    # Ensure directory paths use forward slashes for consistency\n",
    "    dirname = dirname.replace('\\\\', '/')\n",
    "\n",
    "    # Check if the directory is not already in the dictionary\n",
    "    if dirname not in files:\n",
    "        # Create a list of file paths within the directory\n",
    "        file_paths = [os.path.join(dirname, filename) for filename in filenames]\n",
    "\n",
    "        # Add the directory and its associated file paths to the dictionary\n",
    "        files[dirname] = file_paths"
   ]
  },
  {
   "cell_type": "code",
   "execution_count": null,
   "id": "37ee6996",
   "metadata": {},
   "outputs": [],
   "source": [
    "for key,value in files.items():\n",
    "    if (value != []) and (len(value) != 1):\n",
    "        print(key,'| Pictures = ',len(value))"
   ]
  },
  {
   "cell_type": "code",
   "execution_count": null,
   "id": "31d1856f",
   "metadata": {},
   "outputs": [],
   "source": [
    "testimg = os.path.join(script_dir, 'archive', 'SunnyBrook-Cardiac-MR', 'SCD2001_010', 'SCD2001_MR_007.dcm')\n",
    "im = imageio.imread(testimg)\n",
    "\n",
    "# Print the available metadata fields\n",
    "metadata_keys = list(im.meta.keys())\n",
    "print(metadata_keys)"
   ]
  },
  {
   "cell_type": "code",
   "execution_count": null,
   "id": "48ce8c6b",
   "metadata": {},
   "outputs": [],
   "source": [
    "# Initialize a list to store metadata dictionaries\n",
    "metadata_list = []\n",
    "\n",
    "# Get the directory of the current script or notebook\n",
    "script_dir = os.path.dirname(os.path.abspath('Cardiac MRI segmentation.ipynb'))\n",
    "\n",
    "# Construct the relative path to the data folder\n",
    "data_folder = os.path.join(script_dir, 'archive', 'SunnyBrook-Cardiac-MR')\n",
    "\n",
    "# Loop through the subdirectories within the specified path\n",
    "for dirname, _, filenames in os.walk(data_folder):\n",
    "    # Ensure directory paths use forward slashes for consistency\n",
    "    dirname = dirname.replace('\\\\', '/')\n",
    "\n",
    "    # Loop through the files in the directory\n",
    "    for filename in filenames:\n",
    "        # Check if the file is a DICOM file\n",
    "        if filename.endswith('.dcm'):\n",
    "            # Create the full file path\n",
    "            file_path = os.path.join(dirname, filename)\n",
    "\n",
    "            # Load the image and retrieve its metadata\n",
    "            im = imageio.imread(file_path)\n",
    "\n",
    "            # Extract the specified metadata fields and store them in a dictionary\n",
    "            metadata_keys = {key: im.meta.get(key, '') for key in metadata_keys}\n",
    "\n",
    "            # Append the metadata to the list\n",
    "            metadata_list.append(metadata_keys)\n",
    "\n",
    "# Create a DataFrame from the list of metadata dictionaries\n",
    "df_metadata = pd.DataFrame(metadata_list)"
   ]
  },
  {
   "cell_type": "code",
   "execution_count": null,
   "id": "c7f9d6b3",
   "metadata": {},
   "outputs": [],
   "source": [
    "df_metadata.head(3)"
   ]
  },
  {
   "cell_type": "code",
   "execution_count": null,
   "id": "6d19831b",
   "metadata": {},
   "outputs": [],
   "source": [
    "df = df_metadata.merge(df_patientdata, on='PatientID', how='left')"
   ]
  },
  {
   "cell_type": "markdown",
   "id": "f8be02be",
   "metadata": {},
   "source": [
    "# Exploratory Data Analysis"
   ]
  },
  {
   "cell_type": "code",
   "execution_count": null,
   "id": "b6d27d63",
   "metadata": {},
   "outputs": [],
   "source": [
    "df.shape"
   ]
  },
  {
   "cell_type": "code",
   "execution_count": null,
   "id": "36762837",
   "metadata": {},
   "outputs": [],
   "source": [
    "df.head(3)"
   ]
  },
  {
   "cell_type": "code",
   "execution_count": null,
   "id": "620676db",
   "metadata": {},
   "outputs": [],
   "source": [
    "df.info()"
   ]
  },
  {
   "cell_type": "code",
   "execution_count": null,
   "id": "9e8aa116",
   "metadata": {},
   "outputs": [],
   "source": [
    "df.describe()"
   ]
  },
  {
   "cell_type": "code",
   "execution_count": null,
   "id": "c989991e",
   "metadata": {},
   "outputs": [],
   "source": [
    "df_eda=pd.DataFrame(df.dtypes)\n",
    "df_eda.rename(columns={0: 'type'}, inplace = True)\n",
    "df_eda.reset_index(inplace=True)\n",
    "\n",
    "data = df_eda[\"type\"].value_counts()\n",
    "ax = data.plot(kind=\"pie\", autopct='%1.1f%%', legend=True, title='Adattípusok', ylabel='', pctdistance=0.7, labeldistance=None, figsize=(5,5), fontsize=11)\n",
    "ax.legend(bbox_to_anchor=(1, 1.02), loc='upper left')\n",
    "plt.show()"
   ]
  },
  {
   "cell_type": "code",
   "execution_count": null,
   "id": "27ee4fdd",
   "metadata": {},
   "outputs": [],
   "source": [
    "sb.heatmap(df.isnull()) # --> nincsenek hiányzó null-értékek"
   ]
  },
  {
   "cell_type": "code",
   "execution_count": null,
   "id": "836f1524-aa71-414c-b8e9-dd76cdeba93d",
   "metadata": {},
   "outputs": [],
   "source": []
  },
  {
   "cell_type": "code",
   "execution_count": null,
   "id": "339bfd6a-3649-458f-9f6f-60ae9856e469",
   "metadata": {},
   "outputs": [],
   "source": []
  }
 ],
 "metadata": {
  "kernelspec": {
   "display_name": "Python 3 (ipykernel)",
   "language": "python",
   "name": "python3"
  },
  "language_info": {
   "codemirror_mode": {
    "name": "ipython",
    "version": 3
   },
   "file_extension": ".py",
   "mimetype": "text/x-python",
   "name": "python",
   "nbconvert_exporter": "python",
   "pygments_lexer": "ipython3",
   "version": "3.11.5"
  }
 },
 "nbformat": 4,
 "nbformat_minor": 5
}
