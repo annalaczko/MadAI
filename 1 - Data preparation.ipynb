{
 "cells": [
  {
   "cell_type": "markdown",
   "id": "9f043210",
   "metadata": {},
   "source": [
    "# Imports"
   ]
  },
  {
   "cell_type": "code",
   "execution_count": 1,
   "id": "b91fdcb9",
   "metadata": {},
   "outputs": [],
   "source": [
    "!git config --global core.autocrlf true"
   ]
  },
  {
   "cell_type": "code",
   "execution_count": 2,
   "id": "9a61234a",
   "metadata": {},
   "outputs": [],
   "source": [
    "# könyvtárak beimportálása\n",
    "import pandas as pd\n",
    "import os\n",
    "import SimpleITK as sitk\n",
    "import numpy as np\n",
    "import imageio\n",
    "import matplotlib.pyplot as plt\n",
    "import seaborn as sb\n",
    "import pydicom\n",
    "import warnings\n",
    "import cv2\n",
    "from itertools import islice\n",
    "import random\n",
    "import glob"
   ]
  },
  {
   "cell_type": "code",
   "execution_count": 3,
   "id": "4d9b9e4b",
   "metadata": {},
   "outputs": [
    {
     "name": "stdout",
     "output_type": "stream",
     "text": [
      "(45, 5)\n"
     ]
    }
   ],
   "source": [
    "#táblázatos adatok beolvasása\n",
    "\n",
    "readIn = pd.read_csv(\"data/scd_patientdata.csv\")\n",
    "df_patientdata = pd.DataFrame(readIn)\n",
    "pd.set_option(\"display.max_columns\", None)\n",
    "print(df_patientdata.shape)"
   ]
  },
  {
   "cell_type": "code",
   "execution_count": 4,
   "id": "d6076151",
   "metadata": {},
   "outputs": [
    {
     "data": {
      "text/html": [
       "<div>\n",
       "<style scoped>\n",
       "    .dataframe tbody tr th:only-of-type {\n",
       "        vertical-align: middle;\n",
       "    }\n",
       "\n",
       "    .dataframe tbody tr th {\n",
       "        vertical-align: top;\n",
       "    }\n",
       "\n",
       "    .dataframe thead th {\n",
       "        text-align: right;\n",
       "    }\n",
       "</style>\n",
       "<table border=\"1\" class=\"dataframe\">\n",
       "  <thead>\n",
       "    <tr style=\"text-align: right;\">\n",
       "      <th></th>\n",
       "      <th>PatientID</th>\n",
       "      <th>OriginalID</th>\n",
       "      <th>Gender</th>\n",
       "      <th>Age</th>\n",
       "      <th>Pathology</th>\n",
       "    </tr>\n",
       "  </thead>\n",
       "  <tbody>\n",
       "    <tr>\n",
       "      <th>0</th>\n",
       "      <td>SCD0000101</td>\n",
       "      <td>SC-HF-I-1</td>\n",
       "      <td>Male</td>\n",
       "      <td>53</td>\n",
       "      <td>Heart failure with infarct</td>\n",
       "    </tr>\n",
       "    <tr>\n",
       "      <th>1</th>\n",
       "      <td>SCD0000201</td>\n",
       "      <td>SC-HF-I-2</td>\n",
       "      <td>Male</td>\n",
       "      <td>48</td>\n",
       "      <td>Heart failure with infarct</td>\n",
       "    </tr>\n",
       "    <tr>\n",
       "      <th>2</th>\n",
       "      <td>SCD0000301</td>\n",
       "      <td>SC-HF-I-4</td>\n",
       "      <td>Male</td>\n",
       "      <td>79</td>\n",
       "      <td>Heart failure with infarct</td>\n",
       "    </tr>\n",
       "    <tr>\n",
       "      <th>3</th>\n",
       "      <td>SCD0000401</td>\n",
       "      <td>SC-HF-I-5</td>\n",
       "      <td>Male</td>\n",
       "      <td>45</td>\n",
       "      <td>Heart failure with infarct</td>\n",
       "    </tr>\n",
       "    <tr>\n",
       "      <th>4</th>\n",
       "      <td>SCD0000501</td>\n",
       "      <td>SC-HF-I-6</td>\n",
       "      <td>Male</td>\n",
       "      <td>60</td>\n",
       "      <td>Heart failure with infarct</td>\n",
       "    </tr>\n",
       "    <tr>\n",
       "      <th>5</th>\n",
       "      <td>SCD0000601</td>\n",
       "      <td>SC-HF-I-7</td>\n",
       "      <td>Male</td>\n",
       "      <td>74</td>\n",
       "      <td>Heart failure with infarct</td>\n",
       "    </tr>\n",
       "    <tr>\n",
       "      <th>6</th>\n",
       "      <td>SCD0000701</td>\n",
       "      <td>SC-HF-I-8</td>\n",
       "      <td>Male</td>\n",
       "      <td>46</td>\n",
       "      <td>Heart failure with infarct</td>\n",
       "    </tr>\n",
       "    <tr>\n",
       "      <th>7</th>\n",
       "      <td>SCD0000801</td>\n",
       "      <td>SC-HF-I-9</td>\n",
       "      <td>Male</td>\n",
       "      <td>57</td>\n",
       "      <td>Heart failure with infarct</td>\n",
       "    </tr>\n",
       "    <tr>\n",
       "      <th>8</th>\n",
       "      <td>SCD0000901</td>\n",
       "      <td>SC-HF-I-10</td>\n",
       "      <td>Male</td>\n",
       "      <td>69</td>\n",
       "      <td>Heart failure with infarct</td>\n",
       "    </tr>\n",
       "    <tr>\n",
       "      <th>9</th>\n",
       "      <td>SCD0001001</td>\n",
       "      <td>SC-HF-I-11</td>\n",
       "      <td>Male</td>\n",
       "      <td>55</td>\n",
       "      <td>Heart failure with infarct</td>\n",
       "    </tr>\n",
       "    <tr>\n",
       "      <th>10</th>\n",
       "      <td>SCD0001101</td>\n",
       "      <td>SC-HF-I-12</td>\n",
       "      <td>Female</td>\n",
       "      <td>71</td>\n",
       "      <td>Heart failure with infarct</td>\n",
       "    </tr>\n",
       "    <tr>\n",
       "      <th>11</th>\n",
       "      <td>SCD0001201</td>\n",
       "      <td>SC-HF-I-40</td>\n",
       "      <td>Male</td>\n",
       "      <td>77</td>\n",
       "      <td>Heart failure with infarct</td>\n",
       "    </tr>\n",
       "    <tr>\n",
       "      <th>12</th>\n",
       "      <td>SCD0001301</td>\n",
       "      <td>SC-HF-NI-3</td>\n",
       "      <td>Female</td>\n",
       "      <td>81</td>\n",
       "      <td>Heart failure without infarct</td>\n",
       "    </tr>\n",
       "    <tr>\n",
       "      <th>13</th>\n",
       "      <td>SCD0001401</td>\n",
       "      <td>SC-HF-NI-4</td>\n",
       "      <td>Male</td>\n",
       "      <td>77</td>\n",
       "      <td>Heart failure without infarct</td>\n",
       "    </tr>\n",
       "    <tr>\n",
       "      <th>14</th>\n",
       "      <td>SCD0001501</td>\n",
       "      <td>SC-HF-NI-7</td>\n",
       "      <td>Male</td>\n",
       "      <td>81</td>\n",
       "      <td>Heart failure without infarct</td>\n",
       "    </tr>\n",
       "    <tr>\n",
       "      <th>15</th>\n",
       "      <td>SCD0001601</td>\n",
       "      <td>SC-HF-NI-11</td>\n",
       "      <td>Male</td>\n",
       "      <td>71</td>\n",
       "      <td>Heart failure without infarct</td>\n",
       "    </tr>\n",
       "    <tr>\n",
       "      <th>16</th>\n",
       "      <td>SCD0001701</td>\n",
       "      <td>SC-HF-NI-12</td>\n",
       "      <td>Female</td>\n",
       "      <td>63</td>\n",
       "      <td>Heart failure without infarct</td>\n",
       "    </tr>\n",
       "    <tr>\n",
       "      <th>17</th>\n",
       "      <td>SCD0001801</td>\n",
       "      <td>SC-HF-NI-13</td>\n",
       "      <td>Female</td>\n",
       "      <td>68</td>\n",
       "      <td>Heart failure without infarct</td>\n",
       "    </tr>\n",
       "    <tr>\n",
       "      <th>18</th>\n",
       "      <td>SCD0001901</td>\n",
       "      <td>SC-HF-NI-14</td>\n",
       "      <td>Male</td>\n",
       "      <td>82</td>\n",
       "      <td>Heart failure without infarct</td>\n",
       "    </tr>\n",
       "    <tr>\n",
       "      <th>19</th>\n",
       "      <td>SCD0002001</td>\n",
       "      <td>SC-HF-NI-15</td>\n",
       "      <td>Male</td>\n",
       "      <td>27</td>\n",
       "      <td>Heart failure without infarct</td>\n",
       "    </tr>\n",
       "    <tr>\n",
       "      <th>20</th>\n",
       "      <td>SCD0002101</td>\n",
       "      <td>SC-HF-NI-31</td>\n",
       "      <td>Male</td>\n",
       "      <td>52</td>\n",
       "      <td>Heart failure without infarct</td>\n",
       "    </tr>\n",
       "    <tr>\n",
       "      <th>21</th>\n",
       "      <td>SCD0002201</td>\n",
       "      <td>SC-HF-NI-33</td>\n",
       "      <td>Male</td>\n",
       "      <td>47</td>\n",
       "      <td>Heart failure without infarct</td>\n",
       "    </tr>\n",
       "    <tr>\n",
       "      <th>22</th>\n",
       "      <td>SCD0002301</td>\n",
       "      <td>SC-HF-NI-34</td>\n",
       "      <td>Male</td>\n",
       "      <td>52</td>\n",
       "      <td>Heart failure without infarct</td>\n",
       "    </tr>\n",
       "    <tr>\n",
       "      <th>23</th>\n",
       "      <td>SCD0002401</td>\n",
       "      <td>SC-HF-NI-36</td>\n",
       "      <td>Female</td>\n",
       "      <td>77</td>\n",
       "      <td>Heart failure without infarct</td>\n",
       "    </tr>\n",
       "    <tr>\n",
       "      <th>24</th>\n",
       "      <td>SCD0002501</td>\n",
       "      <td>SC-HYP-1</td>\n",
       "      <td>Male</td>\n",
       "      <td>83</td>\n",
       "      <td>Hypertrophy</td>\n",
       "    </tr>\n",
       "    <tr>\n",
       "      <th>25</th>\n",
       "      <td>SCD0002601</td>\n",
       "      <td>SC-HYP-3</td>\n",
       "      <td>Male</td>\n",
       "      <td>42</td>\n",
       "      <td>Hypertrophy</td>\n",
       "    </tr>\n",
       "    <tr>\n",
       "      <th>26</th>\n",
       "      <td>SCD0002701</td>\n",
       "      <td>SC-HYP-6</td>\n",
       "      <td>Female</td>\n",
       "      <td>46</td>\n",
       "      <td>Hypertrophy</td>\n",
       "    </tr>\n",
       "    <tr>\n",
       "      <th>27</th>\n",
       "      <td>SCD0002801</td>\n",
       "      <td>SC-HYP-7</td>\n",
       "      <td>Male</td>\n",
       "      <td>61</td>\n",
       "      <td>Hypertrophy</td>\n",
       "    </tr>\n",
       "    <tr>\n",
       "      <th>28</th>\n",
       "      <td>SCD0002901</td>\n",
       "      <td>SC-HYP-8</td>\n",
       "      <td>Male</td>\n",
       "      <td>62</td>\n",
       "      <td>Hypertrophy</td>\n",
       "    </tr>\n",
       "    <tr>\n",
       "      <th>29</th>\n",
       "      <td>SCD0003001</td>\n",
       "      <td>SC-HYP-9</td>\n",
       "      <td>Female</td>\n",
       "      <td>48</td>\n",
       "      <td>Hypertrophy</td>\n",
       "    </tr>\n",
       "    <tr>\n",
       "      <th>30</th>\n",
       "      <td>SCD0003101</td>\n",
       "      <td>SC-HYP-10</td>\n",
       "      <td>Male</td>\n",
       "      <td>47</td>\n",
       "      <td>Hypertrophy</td>\n",
       "    </tr>\n",
       "    <tr>\n",
       "      <th>31</th>\n",
       "      <td>SCD0003201</td>\n",
       "      <td>SC-HYP-11</td>\n",
       "      <td>Female</td>\n",
       "      <td>53</td>\n",
       "      <td>Hypertrophy</td>\n",
       "    </tr>\n",
       "    <tr>\n",
       "      <th>32</th>\n",
       "      <td>SCD0003301</td>\n",
       "      <td>SC-HYP-12</td>\n",
       "      <td>Female</td>\n",
       "      <td>76</td>\n",
       "      <td>Hypertrophy</td>\n",
       "    </tr>\n",
       "    <tr>\n",
       "      <th>33</th>\n",
       "      <td>SCD0003401</td>\n",
       "      <td>SC-HYP-37</td>\n",
       "      <td>Female</td>\n",
       "      <td>68</td>\n",
       "      <td>Hypertrophy</td>\n",
       "    </tr>\n",
       "    <tr>\n",
       "      <th>34</th>\n",
       "      <td>SCD0003501</td>\n",
       "      <td>SC-HYP-38</td>\n",
       "      <td>Male</td>\n",
       "      <td>38</td>\n",
       "      <td>Hypertrophy</td>\n",
       "    </tr>\n",
       "    <tr>\n",
       "      <th>35</th>\n",
       "      <td>SCD0003601</td>\n",
       "      <td>SC-HYP-40</td>\n",
       "      <td>Male</td>\n",
       "      <td>68</td>\n",
       "      <td>Hypertrophy</td>\n",
       "    </tr>\n",
       "    <tr>\n",
       "      <th>36</th>\n",
       "      <td>SCD0003701</td>\n",
       "      <td>SC-N-2</td>\n",
       "      <td>Male</td>\n",
       "      <td>63</td>\n",
       "      <td>Normal</td>\n",
       "    </tr>\n",
       "    <tr>\n",
       "      <th>37</th>\n",
       "      <td>SCD0003801</td>\n",
       "      <td>SC-N-3</td>\n",
       "      <td>Female</td>\n",
       "      <td>53</td>\n",
       "      <td>Normal</td>\n",
       "    </tr>\n",
       "    <tr>\n",
       "      <th>38</th>\n",
       "      <td>SCD0003901</td>\n",
       "      <td>SC-N-5</td>\n",
       "      <td>Female</td>\n",
       "      <td>77</td>\n",
       "      <td>Normal</td>\n",
       "    </tr>\n",
       "    <tr>\n",
       "      <th>39</th>\n",
       "      <td>SCD0004001</td>\n",
       "      <td>SC-N-6</td>\n",
       "      <td>Male</td>\n",
       "      <td>70</td>\n",
       "      <td>Normal</td>\n",
       "    </tr>\n",
       "    <tr>\n",
       "      <th>40</th>\n",
       "      <td>SCD0004101</td>\n",
       "      <td>SC-N-7</td>\n",
       "      <td>Male</td>\n",
       "      <td>23</td>\n",
       "      <td>Normal</td>\n",
       "    </tr>\n",
       "    <tr>\n",
       "      <th>41</th>\n",
       "      <td>SCD0004201</td>\n",
       "      <td>SC-N-9</td>\n",
       "      <td>Male</td>\n",
       "      <td>51</td>\n",
       "      <td>Normal</td>\n",
       "    </tr>\n",
       "    <tr>\n",
       "      <th>42</th>\n",
       "      <td>SCD0004301</td>\n",
       "      <td>SC-N-10</td>\n",
       "      <td>Male</td>\n",
       "      <td>61</td>\n",
       "      <td>Normal</td>\n",
       "    </tr>\n",
       "    <tr>\n",
       "      <th>43</th>\n",
       "      <td>SCD0004401</td>\n",
       "      <td>SC-N-11</td>\n",
       "      <td>Male</td>\n",
       "      <td>60</td>\n",
       "      <td>Normal</td>\n",
       "    </tr>\n",
       "    <tr>\n",
       "      <th>44</th>\n",
       "      <td>SCD0004501</td>\n",
       "      <td>SC-N-40</td>\n",
       "      <td>Female</td>\n",
       "      <td>88</td>\n",
       "      <td>Normal</td>\n",
       "    </tr>\n",
       "  </tbody>\n",
       "</table>\n",
       "</div>"
      ],
      "text/plain": [
       "     PatientID   OriginalID  Gender  Age                      Pathology\n",
       "0   SCD0000101    SC-HF-I-1    Male   53     Heart failure with infarct\n",
       "1   SCD0000201    SC-HF-I-2    Male   48     Heart failure with infarct\n",
       "2   SCD0000301    SC-HF-I-4    Male   79     Heart failure with infarct\n",
       "3   SCD0000401    SC-HF-I-5    Male   45     Heart failure with infarct\n",
       "4   SCD0000501    SC-HF-I-6    Male   60     Heart failure with infarct\n",
       "5   SCD0000601    SC-HF-I-7    Male   74     Heart failure with infarct\n",
       "6   SCD0000701    SC-HF-I-8    Male   46     Heart failure with infarct\n",
       "7   SCD0000801    SC-HF-I-9    Male   57     Heart failure with infarct\n",
       "8   SCD0000901   SC-HF-I-10    Male   69     Heart failure with infarct\n",
       "9   SCD0001001   SC-HF-I-11    Male   55     Heart failure with infarct\n",
       "10  SCD0001101   SC-HF-I-12  Female   71     Heart failure with infarct\n",
       "11  SCD0001201   SC-HF-I-40    Male   77     Heart failure with infarct\n",
       "12  SCD0001301   SC-HF-NI-3  Female   81  Heart failure without infarct\n",
       "13  SCD0001401   SC-HF-NI-4    Male   77  Heart failure without infarct\n",
       "14  SCD0001501   SC-HF-NI-7    Male   81  Heart failure without infarct\n",
       "15  SCD0001601  SC-HF-NI-11    Male   71  Heart failure without infarct\n",
       "16  SCD0001701  SC-HF-NI-12  Female   63  Heart failure without infarct\n",
       "17  SCD0001801  SC-HF-NI-13  Female   68  Heart failure without infarct\n",
       "18  SCD0001901  SC-HF-NI-14    Male   82  Heart failure without infarct\n",
       "19  SCD0002001  SC-HF-NI-15    Male   27  Heart failure without infarct\n",
       "20  SCD0002101  SC-HF-NI-31    Male   52  Heart failure without infarct\n",
       "21  SCD0002201  SC-HF-NI-33    Male   47  Heart failure without infarct\n",
       "22  SCD0002301  SC-HF-NI-34    Male   52  Heart failure without infarct\n",
       "23  SCD0002401  SC-HF-NI-36  Female   77  Heart failure without infarct\n",
       "24  SCD0002501     SC-HYP-1    Male   83                    Hypertrophy\n",
       "25  SCD0002601     SC-HYP-3    Male   42                    Hypertrophy\n",
       "26  SCD0002701     SC-HYP-6  Female   46                    Hypertrophy\n",
       "27  SCD0002801     SC-HYP-7    Male   61                    Hypertrophy\n",
       "28  SCD0002901     SC-HYP-8    Male   62                    Hypertrophy\n",
       "29  SCD0003001     SC-HYP-9  Female   48                    Hypertrophy\n",
       "30  SCD0003101    SC-HYP-10    Male   47                    Hypertrophy\n",
       "31  SCD0003201    SC-HYP-11  Female   53                    Hypertrophy\n",
       "32  SCD0003301    SC-HYP-12  Female   76                    Hypertrophy\n",
       "33  SCD0003401    SC-HYP-37  Female   68                    Hypertrophy\n",
       "34  SCD0003501    SC-HYP-38    Male   38                    Hypertrophy\n",
       "35  SCD0003601    SC-HYP-40    Male   68                    Hypertrophy\n",
       "36  SCD0003701       SC-N-2    Male   63                         Normal\n",
       "37  SCD0003801       SC-N-3  Female   53                         Normal\n",
       "38  SCD0003901       SC-N-5  Female   77                         Normal\n",
       "39  SCD0004001       SC-N-6    Male   70                         Normal\n",
       "40  SCD0004101       SC-N-7    Male   23                         Normal\n",
       "41  SCD0004201       SC-N-9    Male   51                         Normal\n",
       "42  SCD0004301      SC-N-10    Male   61                         Normal\n",
       "43  SCD0004401      SC-N-11    Male   60                         Normal\n",
       "44  SCD0004501      SC-N-40  Female   88                         Normal"
      ]
     },
     "execution_count": 4,
     "metadata": {},
     "output_type": "execute_result"
    }
   ],
   "source": [
    "df_patientdata.head(50)"
   ]
  },
  {
   "cell_type": "code",
   "execution_count": 5,
   "id": "f646486c",
   "metadata": {},
   "outputs": [],
   "source": [
    "#képeket tartalmazó képek útvonalának elmentése dictionary-be, \n",
    "#ahol a key azok az egyes mappákat jelöli, \n",
    "#a value meg egy array a benne található fájlokkal\n",
    "\n",
    "script_dir = os.path.dirname(os.path.abspath('Cardiac MRI segmentation.ipynb'))\n",
    "\n",
    "data_folder = os.path.join(script_dir, 'data', 'SCD_IMAGES')\n",
    "\n",
    "files = {}\n",
    "\n",
    "for dirname, _, filenames in os.walk(data_folder):\n",
    "    dirname = dirname.replace('\\\\', '/')\n",
    "\n",
    "    if dirname not in files:\n",
    "        file_paths = [os.path.join(dirname, filename) for filename in filenames]\n",
    "        files[dirname] = file_paths"
   ]
  },
  {
   "cell_type": "code",
   "execution_count": 6,
   "id": "9aa57d77-4398-4a7d-80ee-e7cadf039dbe",
   "metadata": {},
   "outputs": [],
   "source": [
    "#a dictionaryt átalakítom egy olyan listává, ahol minden elem, egy fájlt jelöl és aztán randomizálom a sorrendet a tanításhoz\n",
    "\n",
    "files_array=[]\n",
    "for folder in files.keys():\n",
    "    for file in files[folder]:\n",
    "        if (file.split('.')[1]=='dcm'):\n",
    "            files_array.append(file)\n",
    "\n",
    "np.random.shuffle(files_array)"
   ]
  },
  {
   "cell_type": "code",
   "execution_count": 7,
   "id": "25477f68-e94f-47f1-a252-c77cdea03f3c",
   "metadata": {},
   "outputs": [
    {
     "data": {
      "text/plain": [
       "48475"
      ]
     },
     "execution_count": 7,
     "metadata": {},
     "output_type": "execute_result"
    }
   ],
   "source": [
    "len(files_array)"
   ]
  },
  {
   "cell_type": "markdown",
   "id": "2eb96608-c193-47ee-bf51-fc4604c71773",
   "metadata": {},
   "source": [
    "# Image preprocessing"
   ]
  },
  {
   "cell_type": "code",
   "execution_count": 8,
   "id": "65c50daa-a672-4ed8-ac46-09978a56652a",
   "metadata": {},
   "outputs": [],
   "source": [
    "#egy darab dicom fájl betöltése\n",
    "\n",
    "def load(file):\n",
    "    dicom_data=pydicom.dcmread(file)\n",
    "    return dicom_data"
   ]
  },
  {
   "cell_type": "markdown",
   "id": "e51d2295-f08a-4b2f-ae73-19e57a36fa95",
   "metadata": {},
   "source": [
    "### Format check\n",
    "The only data thats was pulled into the dataframe is DICOM so it's already done"
   ]
  },
  {
   "cell_type": "markdown",
   "id": "a27dde1a-a27b-49e7-bcfe-831545e686bc",
   "metadata": {},
   "source": [
    "### Sizing"
   ]
  },
  {
   "cell_type": "code",
   "execution_count": 9,
   "id": "4061b8b4-1ce8-446e-bb06-aa22cca9183c",
   "metadata": {},
   "outputs": [],
   "source": [
    "# egy darab np.array-ben tárolt kép átméretezése\n",
    "\n",
    "def resize(data):\n",
    "    resized_image = cv2.resize(data.pixel_array, (256, 256))\n",
    "    return [data.PatientID,resized_image]"
   ]
  },
  {
   "cell_type": "markdown",
   "id": "5ba4930c-3ccf-4286-8536-0ca03721ba6c",
   "metadata": {},
   "source": [
    "### Normalizing data"
   ]
  },
  {
   "cell_type": "code",
   "execution_count": 10,
   "id": "c7f9d6b3",
   "metadata": {},
   "outputs": [],
   "source": [
    "#egy darab np.array-ben tárolt kép pixeleinek normalizálása\n",
    "\n",
    "def normalize(item):\n",
    "    pixel = item[1]\n",
    "    minimum = pixel.min()\n",
    "    maximum = pixel.max()\n",
    "\n",
    "    if minimum < 0:\n",
    "        pixel = pixel + abs(minimum)\n",
    "        maximum += abs(minimum)\n",
    "        \n",
    "    if maximum != 0:\n",
    "        pixel = pixel / maximum\n",
    "    return [item[0], pixel]"
   ]
  },
  {
   "cell_type": "markdown",
   "id": "a478c070-a49b-4a68-8b25-be6fcfb2f000",
   "metadata": {},
   "source": [
    "### Augmentation"
   ]
  },
  {
   "cell_type": "markdown",
   "id": "028b4cdb-5e0b-400a-8517-ee57bd50921c",
   "metadata": {},
   "source": [
    "If needed. For now, it's empty."
   ]
  },
  {
   "cell_type": "markdown",
   "id": "761684c2-fe39-4fb3-8fe0-cf0f11d156ba",
   "metadata": {},
   "source": [
    "## Preprocess"
   ]
  },
  {
   "cell_type": "code",
   "execution_count": 11,
   "id": "70d42843-48e9-45d9-b2c9-73ea4c18f7f2",
   "metadata": {},
   "outputs": [
    {
     "data": {
      "text/plain": [
       "dict"
      ]
     },
     "execution_count": 11,
     "metadata": {},
     "output_type": "execute_result"
    }
   ],
   "source": [
    "type(files)"
   ]
  },
  {
   "cell_type": "code",
   "execution_count": 12,
   "id": "33872cd9-ba26-4c87-9179-1ccea2fc47ab",
   "metadata": {},
   "outputs": [],
   "source": [
    "files_len=len(files_array)"
   ]
  },
  {
   "cell_type": "code",
   "execution_count": 13,
   "id": "c515f96f-7ce0-492c-be8c-4597d65eb71d",
   "metadata": {},
   "outputs": [],
   "source": [
    "# betölt egy batchnyi képet, elvégzi a preprocessinget, majd elmenti a megadott fájlba\n",
    "\n",
    "def convert_and_append_to_npz(dicom_files_batch, npz_file, start_index, files_len):\n",
    "    image_array=[]\n",
    "    \n",
    "    for i, dicom_file in enumerate(dicom_files_batch):\n",
    "        print(f'Loading:     {start_index + i}/{files_len}', end='\\r')\n",
    "    \n",
    "        loaded_files = load(dicom_file)\n",
    "        \n",
    "        print(f'Resizing:    {start_index + i}/{files_len}', end='\\r')\n",
    "        sized_data = resize(loaded_files)\n",
    "        print(f'Normalizing: {start_index + i}/{files_len}', end='\\r')\n",
    "        normalized_data = normalize(sized_data)\n",
    "        image_array.append((normalized_data[0],normalized_data[1]))\n",
    "    new_ids = np.array([item[0] for item in image_array])\n",
    "    new_images = np.array([item[1] for item in image_array])\n",
    "    \n",
    "\n",
    "    print(f'Saving: {start_index} to {start_index + len(dicom_files_batch) - 1}       ', end='\\r')\n",
    "    np.savez(npz_file, ids=new_ids, images=new_images)\n"
   ]
  },
  {
   "cell_type": "code",
   "execution_count": 14,
   "id": "9112fcee-742f-498d-8f7b-b1c22d5bbdfb",
   "metadata": {},
   "outputs": [
    {
     "name": "stdout",
     "output_type": "stream",
     "text": [
      "1/12 split is done           \n",
      "2/12 split is done           \n",
      "3/12 split is done           \n",
      "4/12 split is done           \n",
      "5/12 split is done           \n",
      "6/12 split is done           \n",
      "7/12 split is done           \n",
      "8/12 split is done           \n",
      "9/12 split is done           \n",
      "10/12 split is done           \n",
      "11/12 split is done           \n",
      "12/12 split is done           \n"
     ]
    }
   ],
   "source": [
    "#megnézi, hogy vannak-e olyan fájlok, mint aminek elmentené az új, előkészített képeinket\n",
    "#ha van, törli őket\n",
    "#utána szétbontja az fájlnév listát 12 részre és preprocesszálja őket\n",
    "\n",
    "split_num=12\n",
    "base_name = 'data/images'\n",
    "\n",
    "for j in range(split_num):\n",
    "    file_name = f'{base_name}_split{j}.npz'\n",
    "    \n",
    "    if os.path.exists(file_name):\n",
    "        os.remove(file_name)\n",
    "\n",
    "\n",
    "total_files = len(files_array)\n",
    "split_size = total_files // split_num\n",
    "\n",
    "for j in range(split_num):\n",
    "    split_name = f'{base_name}_split{j}.npz'\n",
    "\n",
    "    start_index = j * split_size\n",
    "    end_index = (j + 1) * split_size if j < split_num-1 else total_files\n",
    "\n",
    "    split_files = list(files_array)[start_index:end_index]\n",
    "\n",
    "    convert_and_append_to_npz(split_files, split_name, start_index, files_len)\n",
    "\n",
    "    print(f\"{j+1}/{split_num} split is done           \")"
   ]
  },
  {
   "cell_type": "markdown",
   "id": "31ff2461-bc80-4c71-afcd-72ebfa7dbc6c",
   "metadata": {},
   "source": [
    "# Merging the data"
   ]
  },
  {
   "cell_type": "markdown",
   "id": "008be994-3add-49ed-8623-007a9ca296f4",
   "metadata": {},
   "source": [
    "# Defining input and output\n"
   ]
  },
  {
   "cell_type": "markdown",
   "id": "25a6a6cb-e6a0-422a-abb2-9eee332a7f16",
   "metadata": {},
   "source": [
    "A következőben a táblázatos adatok előkészítését végzem el. Az gender egy flag változó lesz, a korból pedig egy korcsoportos dummy változó. A diagnózis label-lé lesz alakítva"
   ]
  },
  {
   "cell_type": "markdown",
   "id": "70775598-ec2e-430f-952c-724d5fff64fd",
   "metadata": {},
   "source": [
    "### Is_Male\n",
    "Flag változó"
   ]
  },
  {
   "cell_type": "code",
   "execution_count": 15,
   "id": "ba2f6fc7-22ca-476b-9b76-d669aa9df662",
   "metadata": {},
   "outputs": [],
   "source": [
    "df_patientdata['Is_Male'] = df_patientdata['Gender'].apply(lambda x: 1 if x == 'Male' else 0)"
   ]
  },
  {
   "cell_type": "markdown",
   "id": "a1ba7901-047d-41de-8830-f0413f0521e3",
   "metadata": {},
   "source": [
    "### Pathology\n",
    "Dummy változóvá alakítás"
   ]
  },
  {
   "cell_type": "markdown",
   "id": "552cc2da-09df-4736-b96c-361406979ab1",
   "metadata": {},
   "source": [
    "| Szöveges Érték                       | Címke | \n",
    "|--------------------------------------|-------|\n",
    "| Normal                               | 0     | |\n",
    "| Heart failure with infarct           | 1    |  |\n",
    "| Heart failure without infarct        | 2   |   |\n",
    "| Hypertrophy                          | 3  |    |\n"
   ]
  },
  {
   "cell_type": "code",
   "execution_count": 16,
   "id": "6e8e7402-640f-4d9e-bbf3-af868c290766",
   "metadata": {},
   "outputs": [],
   "source": [
    "dict = {'Normal': 0, 'Heart failure with infarct': 1, 'Heart failure without infarct' :2, 'Hypertrophy': 3}"
   ]
  },
  {
   "cell_type": "code",
   "execution_count": 17,
   "id": "e45777d3-dc96-4c4d-9e42-ee22ad91cb28",
   "metadata": {},
   "outputs": [],
   "source": [
    "df_patientdata['Pathology']=df_patientdata['Pathology'].map(dict)"
   ]
  },
  {
   "cell_type": "markdown",
   "id": "8f162ca7-8bd4-4590-8f81-db3f384a00d1",
   "metadata": {},
   "source": [
    "### Age Group: \n",
    "10 évenkénti csoportokban vannak, így dummy változóként lehet használni. Nem tudhatjuk hogy a kor lineárisan befolyásolja-e a betegségek kialakulását."
   ]
  },
  {
   "cell_type": "code",
   "execution_count": 18,
   "id": "d44eb1ea-e197-490d-882c-c90fb4391ba7",
   "metadata": {},
   "outputs": [],
   "source": [
    "df_patientdata['Age_Group'] = (df_patientdata['Age']/10).astype(int)"
   ]
  },
  {
   "cell_type": "code",
   "execution_count": 19,
   "id": "1563ad5f-7649-4b8d-9180-1320d5c919d8",
   "metadata": {},
   "outputs": [],
   "source": [
    "ps_dummies = pd.get_dummies(df_patientdata['Age_Group'], prefix = 'Age_Group', drop_first = True)\n",
    "df_patientdata = df_patientdata.merge(ps_dummies, left_index = True, right_index = True, how = 'left')"
   ]
  },
  {
   "cell_type": "code",
   "execution_count": null,
   "id": "f989c28b-8b70-4311-9712-35ecbe838522",
   "metadata": {},
   "outputs": [],
   "source": []
  },
  {
   "cell_type": "code",
   "execution_count": 20,
   "id": "8a75c3a7-b0c3-44f6-ad5c-2e2671f6da0d",
   "metadata": {},
   "outputs": [],
   "source": [
    "df_patientdata=df_patientdata.drop(['Gender', 'Age', 'Age_Group', 'OriginalID'], axis=1)"
   ]
  },
  {
   "cell_type": "code",
   "execution_count": 21,
   "id": "7e268c61-6f0f-439b-8175-37eaa208e796",
   "metadata": {},
   "outputs": [],
   "source": [
    "#átalakított csv mentése\n",
    "\n",
    "df_patientdata.to_csv('data/df_patientdata.csv', index=False)\n"
   ]
  },
  {
   "cell_type": "code",
   "execution_count": 22,
   "id": "36402de9-8760-40ce-bf58-0952238b1c7c",
   "metadata": {},
   "outputs": [],
   "source": [
    "del df_patientdata"
   ]
  },
  {
   "cell_type": "code",
   "execution_count": null,
   "id": "a50c86eb-d5f9-46d6-aae9-ca02bd2d91be",
   "metadata": {},
   "outputs": [],
   "source": []
  },
  {
   "cell_type": "code",
   "execution_count": null,
   "id": "15d3b911-1a90-4f42-b20f-2c71136f8b0f",
   "metadata": {},
   "outputs": [],
   "source": []
  }
 ],
 "metadata": {
  "kernelspec": {
   "display_name": "Python 3 (ipykernel)",
   "language": "python",
   "name": "python3"
  },
  "language_info": {
   "codemirror_mode": {
    "name": "ipython",
    "version": 3
   },
   "file_extension": ".py",
   "mimetype": "text/x-python",
   "name": "python",
   "nbconvert_exporter": "python",
   "pygments_lexer": "ipython3",
   "version": "3.11.6"
  }
 },
 "nbformat": 4,
 "nbformat_minor": 5
}
