{
 "cells": [
  {
   "cell_type": "markdown",
   "id": "9f043210",
   "metadata": {},
   "source": [
    "# Imports"
   ]
  },
  {
   "cell_type": "code",
   "execution_count": 1,
   "id": "b91fdcb9",
   "metadata": {},
   "outputs": [],
   "source": [
    "!git config --global core.autocrlf true"
   ]
  },
  {
   "cell_type": "code",
   "execution_count": 2,
   "id": "9a61234a",
   "metadata": {},
   "outputs": [],
   "source": [
    "import pandas as pd\n",
    "import os\n",
    "import SimpleITK as sitk\n",
    "import numpy as np\n",
    "import imageio\n",
    "import matplotlib.pyplot as plt\n",
    "import seaborn as sb\n",
    "import pydicom\n",
    "import warnings\n",
    "import cv2\n",
    "from itertools import islice\n",
    "import random"
   ]
  },
  {
   "cell_type": "code",
   "execution_count": 3,
   "id": "4d9b9e4b",
   "metadata": {},
   "outputs": [
    {
     "ename": "FileNotFoundError",
     "evalue": "[Errno 2] No such file or directory: 'data/scd_patientdata.csv'",
     "output_type": "error",
     "traceback": [
      "\u001b[1;31m---------------------------------------------------------------------------\u001b[0m",
      "\u001b[1;31mFileNotFoundError\u001b[0m                         Traceback (most recent call last)",
      "\u001b[1;32m<ipython-input-3-0dac597b56fc>\u001b[0m in \u001b[0;36m<module>\u001b[1;34m\u001b[0m\n\u001b[1;32m----> 1\u001b[1;33m \u001b[0mreadIn\u001b[0m \u001b[1;33m=\u001b[0m \u001b[0mpd\u001b[0m\u001b[1;33m.\u001b[0m\u001b[0mread_csv\u001b[0m\u001b[1;33m(\u001b[0m\u001b[1;34m\"data/scd_patientdata.csv\"\u001b[0m\u001b[1;33m)\u001b[0m\u001b[1;33m\u001b[0m\u001b[1;33m\u001b[0m\u001b[0m\n\u001b[0m\u001b[0;32m      2\u001b[0m \u001b[0mdf_patientdata\u001b[0m \u001b[1;33m=\u001b[0m \u001b[0mpd\u001b[0m\u001b[1;33m.\u001b[0m\u001b[0mDataFrame\u001b[0m\u001b[1;33m(\u001b[0m\u001b[0mreadIn\u001b[0m\u001b[1;33m)\u001b[0m\u001b[1;33m\u001b[0m\u001b[1;33m\u001b[0m\u001b[0m\n\u001b[0;32m      3\u001b[0m \u001b[0mpd\u001b[0m\u001b[1;33m.\u001b[0m\u001b[0mset_option\u001b[0m\u001b[1;33m(\u001b[0m\u001b[1;34m\"display.max_columns\"\u001b[0m\u001b[1;33m,\u001b[0m \u001b[1;32mNone\u001b[0m\u001b[1;33m)\u001b[0m\u001b[1;33m\u001b[0m\u001b[1;33m\u001b[0m\u001b[0m\n\u001b[0;32m      4\u001b[0m \u001b[0mprint\u001b[0m\u001b[1;33m(\u001b[0m\u001b[0mdf_patientdata\u001b[0m\u001b[1;33m.\u001b[0m\u001b[0mshape\u001b[0m\u001b[1;33m)\u001b[0m\u001b[1;33m\u001b[0m\u001b[1;33m\u001b[0m\u001b[0m\n",
      "\u001b[1;32m~\\anaconda3\\lib\\site-packages\\pandas\\io\\parsers.py\u001b[0m in \u001b[0;36mread_csv\u001b[1;34m(filepath_or_buffer, sep, delimiter, header, names, index_col, usecols, squeeze, prefix, mangle_dupe_cols, dtype, engine, converters, true_values, false_values, skipinitialspace, skiprows, skipfooter, nrows, na_values, keep_default_na, na_filter, verbose, skip_blank_lines, parse_dates, infer_datetime_format, keep_date_col, date_parser, dayfirst, cache_dates, iterator, chunksize, compression, thousands, decimal, lineterminator, quotechar, quoting, doublequote, escapechar, comment, encoding, dialect, error_bad_lines, warn_bad_lines, delim_whitespace, low_memory, memory_map, float_precision, storage_options)\u001b[0m\n\u001b[0;32m    608\u001b[0m     \u001b[0mkwds\u001b[0m\u001b[1;33m.\u001b[0m\u001b[0mupdate\u001b[0m\u001b[1;33m(\u001b[0m\u001b[0mkwds_defaults\u001b[0m\u001b[1;33m)\u001b[0m\u001b[1;33m\u001b[0m\u001b[1;33m\u001b[0m\u001b[0m\n\u001b[0;32m    609\u001b[0m \u001b[1;33m\u001b[0m\u001b[0m\n\u001b[1;32m--> 610\u001b[1;33m     \u001b[1;32mreturn\u001b[0m \u001b[0m_read\u001b[0m\u001b[1;33m(\u001b[0m\u001b[0mfilepath_or_buffer\u001b[0m\u001b[1;33m,\u001b[0m \u001b[0mkwds\u001b[0m\u001b[1;33m)\u001b[0m\u001b[1;33m\u001b[0m\u001b[1;33m\u001b[0m\u001b[0m\n\u001b[0m\u001b[0;32m    611\u001b[0m \u001b[1;33m\u001b[0m\u001b[0m\n\u001b[0;32m    612\u001b[0m \u001b[1;33m\u001b[0m\u001b[0m\n",
      "\u001b[1;32m~\\anaconda3\\lib\\site-packages\\pandas\\io\\parsers.py\u001b[0m in \u001b[0;36m_read\u001b[1;34m(filepath_or_buffer, kwds)\u001b[0m\n\u001b[0;32m    460\u001b[0m \u001b[1;33m\u001b[0m\u001b[0m\n\u001b[0;32m    461\u001b[0m     \u001b[1;31m# Create the parser.\u001b[0m\u001b[1;33m\u001b[0m\u001b[1;33m\u001b[0m\u001b[1;33m\u001b[0m\u001b[0m\n\u001b[1;32m--> 462\u001b[1;33m     \u001b[0mparser\u001b[0m \u001b[1;33m=\u001b[0m \u001b[0mTextFileReader\u001b[0m\u001b[1;33m(\u001b[0m\u001b[0mfilepath_or_buffer\u001b[0m\u001b[1;33m,\u001b[0m \u001b[1;33m**\u001b[0m\u001b[0mkwds\u001b[0m\u001b[1;33m)\u001b[0m\u001b[1;33m\u001b[0m\u001b[1;33m\u001b[0m\u001b[0m\n\u001b[0m\u001b[0;32m    463\u001b[0m \u001b[1;33m\u001b[0m\u001b[0m\n\u001b[0;32m    464\u001b[0m     \u001b[1;32mif\u001b[0m \u001b[0mchunksize\u001b[0m \u001b[1;32mor\u001b[0m \u001b[0miterator\u001b[0m\u001b[1;33m:\u001b[0m\u001b[1;33m\u001b[0m\u001b[1;33m\u001b[0m\u001b[0m\n",
      "\u001b[1;32m~\\anaconda3\\lib\\site-packages\\pandas\\io\\parsers.py\u001b[0m in \u001b[0;36m__init__\u001b[1;34m(self, f, engine, **kwds)\u001b[0m\n\u001b[0;32m    817\u001b[0m             \u001b[0mself\u001b[0m\u001b[1;33m.\u001b[0m\u001b[0moptions\u001b[0m\u001b[1;33m[\u001b[0m\u001b[1;34m\"has_index_names\"\u001b[0m\u001b[1;33m]\u001b[0m \u001b[1;33m=\u001b[0m \u001b[0mkwds\u001b[0m\u001b[1;33m[\u001b[0m\u001b[1;34m\"has_index_names\"\u001b[0m\u001b[1;33m]\u001b[0m\u001b[1;33m\u001b[0m\u001b[1;33m\u001b[0m\u001b[0m\n\u001b[0;32m    818\u001b[0m \u001b[1;33m\u001b[0m\u001b[0m\n\u001b[1;32m--> 819\u001b[1;33m         \u001b[0mself\u001b[0m\u001b[1;33m.\u001b[0m\u001b[0m_engine\u001b[0m \u001b[1;33m=\u001b[0m \u001b[0mself\u001b[0m\u001b[1;33m.\u001b[0m\u001b[0m_make_engine\u001b[0m\u001b[1;33m(\u001b[0m\u001b[0mself\u001b[0m\u001b[1;33m.\u001b[0m\u001b[0mengine\u001b[0m\u001b[1;33m)\u001b[0m\u001b[1;33m\u001b[0m\u001b[1;33m\u001b[0m\u001b[0m\n\u001b[0m\u001b[0;32m    820\u001b[0m \u001b[1;33m\u001b[0m\u001b[0m\n\u001b[0;32m    821\u001b[0m     \u001b[1;32mdef\u001b[0m \u001b[0mclose\u001b[0m\u001b[1;33m(\u001b[0m\u001b[0mself\u001b[0m\u001b[1;33m)\u001b[0m\u001b[1;33m:\u001b[0m\u001b[1;33m\u001b[0m\u001b[1;33m\u001b[0m\u001b[0m\n",
      "\u001b[1;32m~\\anaconda3\\lib\\site-packages\\pandas\\io\\parsers.py\u001b[0m in \u001b[0;36m_make_engine\u001b[1;34m(self, engine)\u001b[0m\n\u001b[0;32m   1048\u001b[0m             )\n\u001b[0;32m   1049\u001b[0m         \u001b[1;31m# error: Too many arguments for \"ParserBase\"\u001b[0m\u001b[1;33m\u001b[0m\u001b[1;33m\u001b[0m\u001b[1;33m\u001b[0m\u001b[0m\n\u001b[1;32m-> 1050\u001b[1;33m         \u001b[1;32mreturn\u001b[0m \u001b[0mmapping\u001b[0m\u001b[1;33m[\u001b[0m\u001b[0mengine\u001b[0m\u001b[1;33m]\u001b[0m\u001b[1;33m(\u001b[0m\u001b[0mself\u001b[0m\u001b[1;33m.\u001b[0m\u001b[0mf\u001b[0m\u001b[1;33m,\u001b[0m \u001b[1;33m**\u001b[0m\u001b[0mself\u001b[0m\u001b[1;33m.\u001b[0m\u001b[0moptions\u001b[0m\u001b[1;33m)\u001b[0m  \u001b[1;31m# type: ignore[call-arg]\u001b[0m\u001b[1;33m\u001b[0m\u001b[1;33m\u001b[0m\u001b[0m\n\u001b[0m\u001b[0;32m   1051\u001b[0m \u001b[1;33m\u001b[0m\u001b[0m\n\u001b[0;32m   1052\u001b[0m     \u001b[1;32mdef\u001b[0m \u001b[0m_failover_to_python\u001b[0m\u001b[1;33m(\u001b[0m\u001b[0mself\u001b[0m\u001b[1;33m)\u001b[0m\u001b[1;33m:\u001b[0m\u001b[1;33m\u001b[0m\u001b[1;33m\u001b[0m\u001b[0m\n",
      "\u001b[1;32m~\\anaconda3\\lib\\site-packages\\pandas\\io\\parsers.py\u001b[0m in \u001b[0;36m__init__\u001b[1;34m(self, src, **kwds)\u001b[0m\n\u001b[0;32m   1865\u001b[0m \u001b[1;33m\u001b[0m\u001b[0m\n\u001b[0;32m   1866\u001b[0m         \u001b[1;31m# open handles\u001b[0m\u001b[1;33m\u001b[0m\u001b[1;33m\u001b[0m\u001b[1;33m\u001b[0m\u001b[0m\n\u001b[1;32m-> 1867\u001b[1;33m         \u001b[0mself\u001b[0m\u001b[1;33m.\u001b[0m\u001b[0m_open_handles\u001b[0m\u001b[1;33m(\u001b[0m\u001b[0msrc\u001b[0m\u001b[1;33m,\u001b[0m \u001b[0mkwds\u001b[0m\u001b[1;33m)\u001b[0m\u001b[1;33m\u001b[0m\u001b[1;33m\u001b[0m\u001b[0m\n\u001b[0m\u001b[0;32m   1868\u001b[0m         \u001b[1;32massert\u001b[0m \u001b[0mself\u001b[0m\u001b[1;33m.\u001b[0m\u001b[0mhandles\u001b[0m \u001b[1;32mis\u001b[0m \u001b[1;32mnot\u001b[0m \u001b[1;32mNone\u001b[0m\u001b[1;33m\u001b[0m\u001b[1;33m\u001b[0m\u001b[0m\n\u001b[0;32m   1869\u001b[0m         \u001b[1;32mfor\u001b[0m \u001b[0mkey\u001b[0m \u001b[1;32min\u001b[0m \u001b[1;33m(\u001b[0m\u001b[1;34m\"storage_options\"\u001b[0m\u001b[1;33m,\u001b[0m \u001b[1;34m\"encoding\"\u001b[0m\u001b[1;33m,\u001b[0m \u001b[1;34m\"memory_map\"\u001b[0m\u001b[1;33m,\u001b[0m \u001b[1;34m\"compression\"\u001b[0m\u001b[1;33m)\u001b[0m\u001b[1;33m:\u001b[0m\u001b[1;33m\u001b[0m\u001b[1;33m\u001b[0m\u001b[0m\n",
      "\u001b[1;32m~\\anaconda3\\lib\\site-packages\\pandas\\io\\parsers.py\u001b[0m in \u001b[0;36m_open_handles\u001b[1;34m(self, src, kwds)\u001b[0m\n\u001b[0;32m   1360\u001b[0m         \u001b[0mLet\u001b[0m \u001b[0mthe\u001b[0m \u001b[0mreaders\u001b[0m \u001b[0mopen\u001b[0m \u001b[0mIOHanldes\u001b[0m \u001b[0mafter\u001b[0m \u001b[0mthey\u001b[0m \u001b[0mare\u001b[0m \u001b[0mdone\u001b[0m \u001b[1;32mwith\u001b[0m \u001b[0mtheir\u001b[0m \u001b[0mpotential\u001b[0m \u001b[0mraises\u001b[0m\u001b[1;33m.\u001b[0m\u001b[1;33m\u001b[0m\u001b[1;33m\u001b[0m\u001b[0m\n\u001b[0;32m   1361\u001b[0m         \"\"\"\n\u001b[1;32m-> 1362\u001b[1;33m         self.handles = get_handle(\n\u001b[0m\u001b[0;32m   1363\u001b[0m             \u001b[0msrc\u001b[0m\u001b[1;33m,\u001b[0m\u001b[1;33m\u001b[0m\u001b[1;33m\u001b[0m\u001b[0m\n\u001b[0;32m   1364\u001b[0m             \u001b[1;34m\"r\"\u001b[0m\u001b[1;33m,\u001b[0m\u001b[1;33m\u001b[0m\u001b[1;33m\u001b[0m\u001b[0m\n",
      "\u001b[1;32m~\\anaconda3\\lib\\site-packages\\pandas\\io\\common.py\u001b[0m in \u001b[0;36mget_handle\u001b[1;34m(path_or_buf, mode, encoding, compression, memory_map, is_text, errors, storage_options)\u001b[0m\n\u001b[0;32m    640\u001b[0m                 \u001b[0merrors\u001b[0m \u001b[1;33m=\u001b[0m \u001b[1;34m\"replace\"\u001b[0m\u001b[1;33m\u001b[0m\u001b[1;33m\u001b[0m\u001b[0m\n\u001b[0;32m    641\u001b[0m             \u001b[1;31m# Encoding\u001b[0m\u001b[1;33m\u001b[0m\u001b[1;33m\u001b[0m\u001b[1;33m\u001b[0m\u001b[0m\n\u001b[1;32m--> 642\u001b[1;33m             handle = open(\n\u001b[0m\u001b[0;32m    643\u001b[0m                 \u001b[0mhandle\u001b[0m\u001b[1;33m,\u001b[0m\u001b[1;33m\u001b[0m\u001b[1;33m\u001b[0m\u001b[0m\n\u001b[0;32m    644\u001b[0m                 \u001b[0mioargs\u001b[0m\u001b[1;33m.\u001b[0m\u001b[0mmode\u001b[0m\u001b[1;33m,\u001b[0m\u001b[1;33m\u001b[0m\u001b[1;33m\u001b[0m\u001b[0m\n",
      "\u001b[1;31mFileNotFoundError\u001b[0m: [Errno 2] No such file or directory: 'data/scd_patientdata.csv'"
     ]
    }
   ],
   "source": [
    "readIn = pd.read_csv(\"data/scd_patientdata.csv\")\n",
    "df_patientdata = pd.DataFrame(readIn)\n",
    "pd.set_option(\"display.max_columns\", None)\n",
    "print(df_patientdata.shape)"
   ]
  },
  {
   "cell_type": "code",
   "execution_count": null,
   "id": "d6076151",
   "metadata": {},
   "outputs": [],
   "source": [
    "df_patientdata.head(50)"
   ]
  },
  {
   "cell_type": "code",
   "execution_count": null,
   "id": "f646486c",
   "metadata": {},
   "outputs": [],
   "source": [
    "# Get the directory of the current script or notebook\n",
    "script_dir = os.path.dirname(os.path.abspath('Cardiac MRI segmentation.ipynb'))\n",
    "\n",
    "# Construct the relative path to the data folder\n",
    "data_folder = os.path.join(script_dir, 'data', 'SCD_IMAGES')\n",
    "\n",
    "# Initialize a dictionary to store files\n",
    "files = {}\n",
    "\n",
    "# Loop through the subdirectories within the specified path\n",
    "for dirname, _, filenames in os.walk(data_folder):\n",
    "    # Ensure directory paths use forward slashes for consistency\n",
    "    dirname = dirname.replace('\\\\', '/')\n",
    "\n",
    "    # Check if the directory is not already in the dictionary\n",
    "    if dirname not in files:\n",
    "        # Create a list of file paths within the directory\n",
    "        file_paths = [os.path.join(dirname, filename) for filename in filenames]\n",
    "\n",
    "        # Add the directory and its associated file paths to the dictionary\n",
    "        files[dirname] = file_paths"
   ]
  },
  {
   "cell_type": "code",
   "execution_count": null,
   "id": "37ee6996",
   "metadata": {},
   "outputs": [],
   "source": [
    "dicom_files=[]\n",
    "i=0\n",
    "for key,value in files.items():\n",
    "    print(f'Loop {i}', end='\\r')\n",
    "    if (value != []) and (len(value) != 1):\n",
    "        for item in value:\n",
    "            dicom_data=pydicom.dcmread(item)\n",
    "            dicom_files.append(dicom_data)\n",
    "\n",
    "    i+=1"
   ]
  },
  {
   "cell_type": "code",
   "execution_count": null,
   "id": "0f9056e3-9d53-48f9-ae5f-ae978ad712c1",
   "metadata": {},
   "outputs": [],
   "source": [
    "del files"
   ]
  },
  {
   "cell_type": "code",
   "execution_count": null,
   "id": "fb2a78fd-d11d-494c-933d-158c4c30d0fc",
   "metadata": {},
   "outputs": [],
   "source": [
    "def reproducible_shuffle(lst, seed):\n",
    "    random.seed(seed)\n",
    "    shuffled_lst = lst.copy()  # Az eredeti lista megőrzése\n",
    "    random.shuffle(shuffled_lst)\n",
    "    \n",
    "    return shuffled_lst"
   ]
  },
  {
   "cell_type": "code",
   "execution_count": null,
   "id": "179239e6-ba53-4a57-a7d9-5db140f819de",
   "metadata": {},
   "outputs": [],
   "source": [
    "len(dicom_files)"
   ]
  },
  {
   "cell_type": "code",
   "execution_count": null,
   "id": "faf91063-4063-4a67-8890-57e53ce10470",
   "metadata": {},
   "outputs": [],
   "source": [
    "dicom_files=reproducible_shuffle(dicom_files, 42) #sorrend megkeverése, az adatok túl rendezetten vannak"
   ]
  },
  {
   "cell_type": "code",
   "execution_count": null,
   "id": "4500d766-da7f-4bae-873c-26f0d4eb1c6f",
   "metadata": {},
   "outputs": [],
   "source": [
    "pixel_data = dicom_files[222].pixel_array\n",
    "\n",
    "# Now you can work with the NumPy array as needed\n",
    "print(\"Shape of NumPy array:\", pixel_data.shape)"
   ]
  },
  {
   "cell_type": "code",
   "execution_count": null,
   "id": "0c1bea15-97f4-4a81-9038-4eed7b0c2ff7",
   "metadata": {},
   "outputs": [],
   "source": [
    "plt.imshow(pixel_data, cmap='gray')  # 'gray' colormap is suitable for grayscale images\n",
    "plt.show()"
   ]
  },
  {
   "cell_type": "markdown",
   "id": "2eb96608-c193-47ee-bf51-fc4604c71773",
   "metadata": {},
   "source": [
    "# Image preprocessing"
   ]
  },
  {
   "cell_type": "markdown",
   "id": "e51d2295-f08a-4b2f-ae73-19e57a36fa95",
   "metadata": {},
   "source": [
    "### Format check\n",
    "The only data thats was pulled into the dataframe is DICOM so it's already done"
   ]
  },
  {
   "cell_type": "markdown",
   "id": "a27dde1a-a27b-49e7-bcfe-831545e686bc",
   "metadata": {},
   "source": [
    "### Sizing"
   ]
  },
  {
   "cell_type": "code",
   "execution_count": null,
   "id": "73c51b66-c8c5-4e65-8c91-9c28a441cb17",
   "metadata": {},
   "outputs": [],
   "source": [
    "max_batch=20000 #48327 - ennyi adatunk van. ha nagyon lassú, állítsd 10000-re!\n",
    "batch_size = 50  # Válaszd meg a megfelelő batch méretet"
   ]
  },
  {
   "cell_type": "code",
   "execution_count": null,
   "id": "4061b8b4-1ce8-446e-bb06-aa22cca9183c",
   "metadata": {},
   "outputs": [],
   "source": [
    "resized_data = []\n",
    "\n",
    "for i in range(0, max_batch, batch_size):\n",
    "    batch = islice(dicom_files, i, i + batch_size)\n",
    "    print(f'Processing {i}', end='\\r')\n",
    "    batch_resized_images = []\n",
    "    for item in batch:\n",
    "        resized_image = cv2.resize(item.pixel_array, (256, 256))\n",
    "        batch_resized_images.append([item.PatientID, resized_image])\n",
    "\n",
    "    resized_data.extend(batch_resized_images)\n"
   ]
  },
  {
   "cell_type": "code",
   "execution_count": null,
   "id": "68aa5cd6-5720-4666-8696-2acf963d96cb",
   "metadata": {},
   "outputs": [],
   "source": [
    "del dicom_files"
   ]
  },
  {
   "cell_type": "markdown",
   "id": "5ba4930c-3ccf-4286-8536-0ca03721ba6c",
   "metadata": {},
   "source": [
    "### Normalizing data"
   ]
  },
  {
   "cell_type": "code",
   "execution_count": null,
   "id": "c7f9d6b3",
   "metadata": {},
   "outputs": [],
   "source": [
    "normalized_data = []\n",
    "\n",
    "for i in range(0, max_batch, batch_size):\n",
    "    batch = islice(resized_data, i, i + batch_size)\n",
    "    print(f'Processing {i}', end='\\r')\n",
    "    for item in batch:\n",
    "        pixel = item[1]\n",
    "        minimum = pixel.min()\n",
    "        maximum = pixel.max()\n",
    "\n",
    "        if minimum < 0:\n",
    "            pixel = pixel + abs(minimum)\n",
    "            maximum += abs(minimum)\n",
    "        \n",
    "        if maximum != 0:\n",
    "            pixel = pixel / maximum\n",
    "        \n",
    "        normalized_data.append([item[0], pixel])\n"
   ]
  },
  {
   "cell_type": "code",
   "execution_count": null,
   "id": "aec331e6-0a2f-4472-81aa-bf47afc92147",
   "metadata": {},
   "outputs": [],
   "source": [
    "del resized_data"
   ]
  },
  {
   "cell_type": "markdown",
   "id": "a478c070-a49b-4a68-8b25-be6fcfb2f000",
   "metadata": {},
   "source": [
    "### Augmentation"
   ]
  },
  {
   "cell_type": "markdown",
   "id": "028b4cdb-5e0b-400a-8517-ee57bd50921c",
   "metadata": {},
   "source": [
    "If needed. For now, it's empty."
   ]
  },
  {
   "cell_type": "markdown",
   "id": "31ff2461-bc80-4c71-afcd-72ebfa7dbc6c",
   "metadata": {},
   "source": [
    "# Merging the data"
   ]
  },
  {
   "cell_type": "code",
   "execution_count": null,
   "id": "4080fbd8-1c0a-4ece-921a-d845d6c11d6d",
   "metadata": {},
   "outputs": [],
   "source": [
    "df_image=pd.DataFrame(normalized_data, columns=['PatientID', 'Image'])"
   ]
  },
  {
   "cell_type": "code",
   "execution_count": null,
   "id": "ec29ae7a-04ce-4bfa-94ef-0a070f9ea307",
   "metadata": {},
   "outputs": [],
   "source": [
    "df_image.head(10)"
   ]
  },
  {
   "cell_type": "code",
   "execution_count": null,
   "id": "53238166-b2e3-4e2a-a95b-f0e4fc1ee25d",
   "metadata": {},
   "outputs": [],
   "source": [
    "ids = df_image['PatientID'].values\n",
    "images = df_image['Image'].values"
   ]
  },
  {
   "cell_type": "code",
   "execution_count": null,
   "id": "3667a5e5-9375-494d-8370-c4dc56c05799",
   "metadata": {},
   "outputs": [],
   "source": [
    "np.savez('data/images.npz', ids=ids, images=images)"
   ]
  },
  {
   "cell_type": "markdown",
   "id": "f8be02be",
   "metadata": {},
   "source": [
    "# Exploratory Data Analysis"
   ]
  },
  {
   "cell_type": "code",
   "execution_count": null,
   "id": "c989991e",
   "metadata": {},
   "outputs": [],
   "source": [
    "# df_eda=pd.DataFrame(df.dtypes)\n",
    "# df_eda.rename(columns={0: 'type'}, inplace = True)\n",
    "# df_eda.reset_index(inplace=True)\n",
    "\n",
    "# data = df_eda[\"type\"].value_counts()\n",
    "# ax = data.plot(kind=\"pie\", autopct='%1.1f%%', legend=True, title='Adattípusok', ylabel='', pctdistance=0.7, labeldistance=None, figsize=(5,5), fontsize=11)\n",
    "# ax.legend(bbox_to_anchor=(1, 1.02), loc='upper left')\n",
    "# plt.show()"
   ]
  },
  {
   "cell_type": "code",
   "execution_count": null,
   "id": "240b5af5-8e66-4b67-8e9a-62fc9d57b9ef",
   "metadata": {},
   "outputs": [],
   "source": []
  },
  {
   "cell_type": "markdown",
   "id": "008be994-3add-49ed-8623-007a9ca296f4",
   "metadata": {},
   "source": [
    "# Defining input and output\n"
   ]
  },
  {
   "cell_type": "markdown",
   "id": "70775598-ec2e-430f-952c-724d5fff64fd",
   "metadata": {},
   "source": [
    "### Is_Male\n",
    "Flag változó"
   ]
  },
  {
   "cell_type": "code",
   "execution_count": null,
   "id": "ba2f6fc7-22ca-476b-9b76-d669aa9df662",
   "metadata": {},
   "outputs": [],
   "source": [
    "df_patientdata['Is_Male'] = df_patientdata['Gender'].apply(lambda x: 1 if x == 'Male' else 0)"
   ]
  },
  {
   "cell_type": "markdown",
   "id": "a1ba7901-047d-41de-8830-f0413f0521e3",
   "metadata": {},
   "source": [
    "### Pathology\n",
    "Dummy változóvá alakítás"
   ]
  },
  {
   "cell_type": "markdown",
   "id": "552cc2da-09df-4736-b96c-361406979ab1",
   "metadata": {},
   "source": [
    "| Szöveges Érték                       | Címke | \n",
    "|--------------------------------------|-------|\n",
    "| Normal                               | 0     | |\n",
    "| Heart failure with infarct           | 1    |  |\n",
    "| Heart failure without infarct        | 2   |   |\n",
    "| Hypertrophy                          | 3  |    |\n"
   ]
  },
  {
   "cell_type": "code",
   "execution_count": null,
   "id": "6e8e7402-640f-4d9e-bbf3-af868c290766",
   "metadata": {},
   "outputs": [],
   "source": [
    "dict = {'Normal': 0, 'Heart failure with infarct': 1, 'Heart failure without infarct' :2, 'Hypertrophy': 3}"
   ]
  },
  {
   "cell_type": "code",
   "execution_count": null,
   "id": "e45777d3-dc96-4c4d-9e42-ee22ad91cb28",
   "metadata": {},
   "outputs": [],
   "source": [
    "df_patientdata['Pathology']=df_patientdata['Pathology'].map(dict)"
   ]
  },
  {
   "cell_type": "markdown",
   "id": "8f162ca7-8bd4-4590-8f81-db3f384a00d1",
   "metadata": {},
   "source": [
    "### Age Group: \n",
    "10 évenkénti csoportokban vannak, így dummy változóként lehet használni. Nem tudhatjuk hogy a kor lineárisan befolyásolja-e a betegségek kialakulását."
   ]
  },
  {
   "cell_type": "code",
   "execution_count": null,
   "id": "d44eb1ea-e197-490d-882c-c90fb4391ba7",
   "metadata": {},
   "outputs": [],
   "source": [
    "df_patientdata['Age_Group'] = (df_patientdata['Age']/10).astype(int)"
   ]
  },
  {
   "cell_type": "code",
   "execution_count": null,
   "id": "1563ad5f-7649-4b8d-9180-1320d5c919d8",
   "metadata": {},
   "outputs": [],
   "source": [
    "ps_dummies = pd.get_dummies(df_patientdata['Age_Group'], prefix = 'Age_Group', drop_first = True)\n",
    "df_patientdata = df_patientdata.merge(ps_dummies, left_index = True, right_index = True, how = 'left')"
   ]
  },
  {
   "cell_type": "code",
   "execution_count": null,
   "id": "8a75c3a7-b0c3-44f6-ad5c-2e2671f6da0d",
   "metadata": {},
   "outputs": [],
   "source": [
    "df_patientdata=df_patientdata.drop(['Gender', 'Age', 'Age_Group', 'OriginalID'], axis=1)"
   ]
  },
  {
   "cell_type": "code",
   "execution_count": null,
   "id": "7e268c61-6f0f-439b-8175-37eaa208e796",
   "metadata": {},
   "outputs": [],
   "source": [
    "df_patientdata.to_csv('data/df_patientdata.csv', index=False)\n"
   ]
  },
  {
   "cell_type": "code",
   "execution_count": null,
   "id": "36402de9-8760-40ce-bf58-0952238b1c7c",
   "metadata": {},
   "outputs": [],
   "source": [
    "del df_patientdata"
   ]
  }
 ],
 "metadata": {
  "kernelspec": {
   "display_name": "Python 3",
   "language": "python",
   "name": "python3"
  }
 },
 "nbformat": 4,
 "nbformat_minor": 5
}
