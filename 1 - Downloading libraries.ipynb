{
 "cells": [
  {
   "cell_type": "code",
   "execution_count": null,
   "id": "dd6bc6db-0b6a-4f3a-abc6-935da7aa6b25",
   "metadata": {},
   "outputs": [],
   "source": [
    "# Download these for the first run"
   ]
  },
  {
   "cell_type": "code",
   "execution_count": null,
   "id": "5ae59634-719d-4003-baea-8934d1370b44",
   "metadata": {},
   "outputs": [],
   "source": [
    "pip install simpleitk pydicom imageio\n",
    "pip install opencv-python"
   ]
  }
 ],
 "metadata": {
  "kernelspec": {
   "display_name": "Python 3 (ipykernel)",
   "language": "python",
   "name": "python3"
  },
  "language_info": {
   "codemirror_mode": {
    "name": "ipython",
    "version": 3
   },
   "file_extension": ".py",
   "mimetype": "text/x-python",
   "name": "python",
   "nbconvert_exporter": "python",
   "pygments_lexer": "ipython3",
   "version": "3.11.5"
  }
 },
 "nbformat": 4,
 "nbformat_minor": 5
}
