{
 "cells": [
  {
   "cell_type": "markdown",
   "id": "9f043210",
   "metadata": {},
   "source": [
    "# Imports"
   ]
  },
  {
   "cell_type": "code",
   "execution_count": 1,
   "id": "b91fdcb9",
   "metadata": {},
   "outputs": [],
   "source": [
    "!git config --global core.autocrlf true"
   ]
  },
  {
   "cell_type": "code",
   "execution_count": 2,
   "id": "9a61234a",
   "metadata": {},
   "outputs": [],
   "source": [
    "import pandas as pd\n",
    "import os\n",
    "import SimpleITK as sitk\n",
    "import numpy as np\n",
    "import imageio\n",
    "import matplotlib.pyplot as plt\n",
    "import seaborn as sb\n",
    "import pydicom\n",
    "import warnings\n",
    "import cv2\n",
    "from itertools import islice\n",
    "import random\n",
    "import glob"
   ]
  },
  {
   "cell_type": "code",
   "execution_count": 3,
   "id": "4d9b9e4b",
   "metadata": {},
   "outputs": [
    {
     "name": "stdout",
     "output_type": "stream",
     "text": [
      "(45, 5)\n"
     ]
    }
   ],
   "source": [
    "readIn = pd.read_csv(\"data/scd_patientdata.csv\")\n",
    "df_patientdata = pd.DataFrame(readIn)\n",
    "pd.set_option(\"display.max_columns\", None)\n",
    "print(df_patientdata.shape)"
   ]
  },
  {
   "cell_type": "code",
   "execution_count": 4,
   "id": "d6076151",
   "metadata": {},
   "outputs": [
    {
     "data": {
      "text/html": [
       "<div>\n",
       "<style scoped>\n",
       "    .dataframe tbody tr th:only-of-type {\n",
       "        vertical-align: middle;\n",
       "    }\n",
       "\n",
       "    .dataframe tbody tr th {\n",
       "        vertical-align: top;\n",
       "    }\n",
       "\n",
       "    .dataframe thead th {\n",
       "        text-align: right;\n",
       "    }\n",
       "</style>\n",
       "<table border=\"1\" class=\"dataframe\">\n",
       "  <thead>\n",
       "    <tr style=\"text-align: right;\">\n",
       "      <th></th>\n",
       "      <th>PatientID</th>\n",
       "      <th>OriginalID</th>\n",
       "      <th>Gender</th>\n",
       "      <th>Age</th>\n",
       "      <th>Pathology</th>\n",
       "    </tr>\n",
       "  </thead>\n",
       "  <tbody>\n",
       "    <tr>\n",
       "      <th>0</th>\n",
       "      <td>SCD0000101</td>\n",
       "      <td>SC-HF-I-1</td>\n",
       "      <td>Male</td>\n",
       "      <td>53</td>\n",
       "      <td>Heart failure with infarct</td>\n",
       "    </tr>\n",
       "    <tr>\n",
       "      <th>1</th>\n",
       "      <td>SCD0000201</td>\n",
       "      <td>SC-HF-I-2</td>\n",
       "      <td>Male</td>\n",
       "      <td>48</td>\n",
       "      <td>Heart failure with infarct</td>\n",
       "    </tr>\n",
       "    <tr>\n",
       "      <th>2</th>\n",
       "      <td>SCD0000301</td>\n",
       "      <td>SC-HF-I-4</td>\n",
       "      <td>Male</td>\n",
       "      <td>79</td>\n",
       "      <td>Heart failure with infarct</td>\n",
       "    </tr>\n",
       "    <tr>\n",
       "      <th>3</th>\n",
       "      <td>SCD0000401</td>\n",
       "      <td>SC-HF-I-5</td>\n",
       "      <td>Male</td>\n",
       "      <td>45</td>\n",
       "      <td>Heart failure with infarct</td>\n",
       "    </tr>\n",
       "    <tr>\n",
       "      <th>4</th>\n",
       "      <td>SCD0000501</td>\n",
       "      <td>SC-HF-I-6</td>\n",
       "      <td>Male</td>\n",
       "      <td>60</td>\n",
       "      <td>Heart failure with infarct</td>\n",
       "    </tr>\n",
       "    <tr>\n",
       "      <th>5</th>\n",
       "      <td>SCD0000601</td>\n",
       "      <td>SC-HF-I-7</td>\n",
       "      <td>Male</td>\n",
       "      <td>74</td>\n",
       "      <td>Heart failure with infarct</td>\n",
       "    </tr>\n",
       "    <tr>\n",
       "      <th>6</th>\n",
       "      <td>SCD0000701</td>\n",
       "      <td>SC-HF-I-8</td>\n",
       "      <td>Male</td>\n",
       "      <td>46</td>\n",
       "      <td>Heart failure with infarct</td>\n",
       "    </tr>\n",
       "    <tr>\n",
       "      <th>7</th>\n",
       "      <td>SCD0000801</td>\n",
       "      <td>SC-HF-I-9</td>\n",
       "      <td>Male</td>\n",
       "      <td>57</td>\n",
       "      <td>Heart failure with infarct</td>\n",
       "    </tr>\n",
       "    <tr>\n",
       "      <th>8</th>\n",
       "      <td>SCD0000901</td>\n",
       "      <td>SC-HF-I-10</td>\n",
       "      <td>Male</td>\n",
       "      <td>69</td>\n",
       "      <td>Heart failure with infarct</td>\n",
       "    </tr>\n",
       "    <tr>\n",
       "      <th>9</th>\n",
       "      <td>SCD0001001</td>\n",
       "      <td>SC-HF-I-11</td>\n",
       "      <td>Male</td>\n",
       "      <td>55</td>\n",
       "      <td>Heart failure with infarct</td>\n",
       "    </tr>\n",
       "    <tr>\n",
       "      <th>10</th>\n",
       "      <td>SCD0001101</td>\n",
       "      <td>SC-HF-I-12</td>\n",
       "      <td>Female</td>\n",
       "      <td>71</td>\n",
       "      <td>Heart failure with infarct</td>\n",
       "    </tr>\n",
       "    <tr>\n",
       "      <th>11</th>\n",
       "      <td>SCD0001201</td>\n",
       "      <td>SC-HF-I-40</td>\n",
       "      <td>Male</td>\n",
       "      <td>77</td>\n",
       "      <td>Heart failure with infarct</td>\n",
       "    </tr>\n",
       "    <tr>\n",
       "      <th>12</th>\n",
       "      <td>SCD0001301</td>\n",
       "      <td>SC-HF-NI-3</td>\n",
       "      <td>Female</td>\n",
       "      <td>81</td>\n",
       "      <td>Heart failure without infarct</td>\n",
       "    </tr>\n",
       "    <tr>\n",
       "      <th>13</th>\n",
       "      <td>SCD0001401</td>\n",
       "      <td>SC-HF-NI-4</td>\n",
       "      <td>Male</td>\n",
       "      <td>77</td>\n",
       "      <td>Heart failure without infarct</td>\n",
       "    </tr>\n",
       "    <tr>\n",
       "      <th>14</th>\n",
       "      <td>SCD0001501</td>\n",
       "      <td>SC-HF-NI-7</td>\n",
       "      <td>Male</td>\n",
       "      <td>81</td>\n",
       "      <td>Heart failure without infarct</td>\n",
       "    </tr>\n",
       "    <tr>\n",
       "      <th>15</th>\n",
       "      <td>SCD0001601</td>\n",
       "      <td>SC-HF-NI-11</td>\n",
       "      <td>Male</td>\n",
       "      <td>71</td>\n",
       "      <td>Heart failure without infarct</td>\n",
       "    </tr>\n",
       "    <tr>\n",
       "      <th>16</th>\n",
       "      <td>SCD0001701</td>\n",
       "      <td>SC-HF-NI-12</td>\n",
       "      <td>Female</td>\n",
       "      <td>63</td>\n",
       "      <td>Heart failure without infarct</td>\n",
       "    </tr>\n",
       "    <tr>\n",
       "      <th>17</th>\n",
       "      <td>SCD0001801</td>\n",
       "      <td>SC-HF-NI-13</td>\n",
       "      <td>Female</td>\n",
       "      <td>68</td>\n",
       "      <td>Heart failure without infarct</td>\n",
       "    </tr>\n",
       "    <tr>\n",
       "      <th>18</th>\n",
       "      <td>SCD0001901</td>\n",
       "      <td>SC-HF-NI-14</td>\n",
       "      <td>Male</td>\n",
       "      <td>82</td>\n",
       "      <td>Heart failure without infarct</td>\n",
       "    </tr>\n",
       "    <tr>\n",
       "      <th>19</th>\n",
       "      <td>SCD0002001</td>\n",
       "      <td>SC-HF-NI-15</td>\n",
       "      <td>Male</td>\n",
       "      <td>27</td>\n",
       "      <td>Heart failure without infarct</td>\n",
       "    </tr>\n",
       "    <tr>\n",
       "      <th>20</th>\n",
       "      <td>SCD0002101</td>\n",
       "      <td>SC-HF-NI-31</td>\n",
       "      <td>Male</td>\n",
       "      <td>52</td>\n",
       "      <td>Heart failure without infarct</td>\n",
       "    </tr>\n",
       "    <tr>\n",
       "      <th>21</th>\n",
       "      <td>SCD0002201</td>\n",
       "      <td>SC-HF-NI-33</td>\n",
       "      <td>Male</td>\n",
       "      <td>47</td>\n",
       "      <td>Heart failure without infarct</td>\n",
       "    </tr>\n",
       "    <tr>\n",
       "      <th>22</th>\n",
       "      <td>SCD0002301</td>\n",
       "      <td>SC-HF-NI-34</td>\n",
       "      <td>Male</td>\n",
       "      <td>52</td>\n",
       "      <td>Heart failure without infarct</td>\n",
       "    </tr>\n",
       "    <tr>\n",
       "      <th>23</th>\n",
       "      <td>SCD0002401</td>\n",
       "      <td>SC-HF-NI-36</td>\n",
       "      <td>Female</td>\n",
       "      <td>77</td>\n",
       "      <td>Heart failure without infarct</td>\n",
       "    </tr>\n",
       "    <tr>\n",
       "      <th>24</th>\n",
       "      <td>SCD0002501</td>\n",
       "      <td>SC-HYP-1</td>\n",
       "      <td>Male</td>\n",
       "      <td>83</td>\n",
       "      <td>Hypertrophy</td>\n",
       "    </tr>\n",
       "    <tr>\n",
       "      <th>25</th>\n",
       "      <td>SCD0002601</td>\n",
       "      <td>SC-HYP-3</td>\n",
       "      <td>Male</td>\n",
       "      <td>42</td>\n",
       "      <td>Hypertrophy</td>\n",
       "    </tr>\n",
       "    <tr>\n",
       "      <th>26</th>\n",
       "      <td>SCD0002701</td>\n",
       "      <td>SC-HYP-6</td>\n",
       "      <td>Female</td>\n",
       "      <td>46</td>\n",
       "      <td>Hypertrophy</td>\n",
       "    </tr>\n",
       "    <tr>\n",
       "      <th>27</th>\n",
       "      <td>SCD0002801</td>\n",
       "      <td>SC-HYP-7</td>\n",
       "      <td>Male</td>\n",
       "      <td>61</td>\n",
       "      <td>Hypertrophy</td>\n",
       "    </tr>\n",
       "    <tr>\n",
       "      <th>28</th>\n",
       "      <td>SCD0002901</td>\n",
       "      <td>SC-HYP-8</td>\n",
       "      <td>Male</td>\n",
       "      <td>62</td>\n",
       "      <td>Hypertrophy</td>\n",
       "    </tr>\n",
       "    <tr>\n",
       "      <th>29</th>\n",
       "      <td>SCD0003001</td>\n",
       "      <td>SC-HYP-9</td>\n",
       "      <td>Female</td>\n",
       "      <td>48</td>\n",
       "      <td>Hypertrophy</td>\n",
       "    </tr>\n",
       "    <tr>\n",
       "      <th>30</th>\n",
       "      <td>SCD0003101</td>\n",
       "      <td>SC-HYP-10</td>\n",
       "      <td>Male</td>\n",
       "      <td>47</td>\n",
       "      <td>Hypertrophy</td>\n",
       "    </tr>\n",
       "    <tr>\n",
       "      <th>31</th>\n",
       "      <td>SCD0003201</td>\n",
       "      <td>SC-HYP-11</td>\n",
       "      <td>Female</td>\n",
       "      <td>53</td>\n",
       "      <td>Hypertrophy</td>\n",
       "    </tr>\n",
       "    <tr>\n",
       "      <th>32</th>\n",
       "      <td>SCD0003301</td>\n",
       "      <td>SC-HYP-12</td>\n",
       "      <td>Female</td>\n",
       "      <td>76</td>\n",
       "      <td>Hypertrophy</td>\n",
       "    </tr>\n",
       "    <tr>\n",
       "      <th>33</th>\n",
       "      <td>SCD0003401</td>\n",
       "      <td>SC-HYP-37</td>\n",
       "      <td>Female</td>\n",
       "      <td>68</td>\n",
       "      <td>Hypertrophy</td>\n",
       "    </tr>\n",
       "    <tr>\n",
       "      <th>34</th>\n",
       "      <td>SCD0003501</td>\n",
       "      <td>SC-HYP-38</td>\n",
       "      <td>Male</td>\n",
       "      <td>38</td>\n",
       "      <td>Hypertrophy</td>\n",
       "    </tr>\n",
       "    <tr>\n",
       "      <th>35</th>\n",
       "      <td>SCD0003601</td>\n",
       "      <td>SC-HYP-40</td>\n",
       "      <td>Male</td>\n",
       "      <td>68</td>\n",
       "      <td>Hypertrophy</td>\n",
       "    </tr>\n",
       "    <tr>\n",
       "      <th>36</th>\n",
       "      <td>SCD0003701</td>\n",
       "      <td>SC-N-2</td>\n",
       "      <td>Male</td>\n",
       "      <td>63</td>\n",
       "      <td>Normal</td>\n",
       "    </tr>\n",
       "    <tr>\n",
       "      <th>37</th>\n",
       "      <td>SCD0003801</td>\n",
       "      <td>SC-N-3</td>\n",
       "      <td>Female</td>\n",
       "      <td>53</td>\n",
       "      <td>Normal</td>\n",
       "    </tr>\n",
       "    <tr>\n",
       "      <th>38</th>\n",
       "      <td>SCD0003901</td>\n",
       "      <td>SC-N-5</td>\n",
       "      <td>Female</td>\n",
       "      <td>77</td>\n",
       "      <td>Normal</td>\n",
       "    </tr>\n",
       "    <tr>\n",
       "      <th>39</th>\n",
       "      <td>SCD0004001</td>\n",
       "      <td>SC-N-6</td>\n",
       "      <td>Male</td>\n",
       "      <td>70</td>\n",
       "      <td>Normal</td>\n",
       "    </tr>\n",
       "    <tr>\n",
       "      <th>40</th>\n",
       "      <td>SCD0004101</td>\n",
       "      <td>SC-N-7</td>\n",
       "      <td>Male</td>\n",
       "      <td>23</td>\n",
       "      <td>Normal</td>\n",
       "    </tr>\n",
       "    <tr>\n",
       "      <th>41</th>\n",
       "      <td>SCD0004201</td>\n",
       "      <td>SC-N-9</td>\n",
       "      <td>Male</td>\n",
       "      <td>51</td>\n",
       "      <td>Normal</td>\n",
       "    </tr>\n",
       "    <tr>\n",
       "      <th>42</th>\n",
       "      <td>SCD0004301</td>\n",
       "      <td>SC-N-10</td>\n",
       "      <td>Male</td>\n",
       "      <td>61</td>\n",
       "      <td>Normal</td>\n",
       "    </tr>\n",
       "    <tr>\n",
       "      <th>43</th>\n",
       "      <td>SCD0004401</td>\n",
       "      <td>SC-N-11</td>\n",
       "      <td>Male</td>\n",
       "      <td>60</td>\n",
       "      <td>Normal</td>\n",
       "    </tr>\n",
       "    <tr>\n",
       "      <th>44</th>\n",
       "      <td>SCD0004501</td>\n",
       "      <td>SC-N-40</td>\n",
       "      <td>Female</td>\n",
       "      <td>88</td>\n",
       "      <td>Normal</td>\n",
       "    </tr>\n",
       "  </tbody>\n",
       "</table>\n",
       "</div>"
      ],
      "text/plain": [
       "     PatientID   OriginalID  Gender  Age                      Pathology\n",
       "0   SCD0000101    SC-HF-I-1    Male   53     Heart failure with infarct\n",
       "1   SCD0000201    SC-HF-I-2    Male   48     Heart failure with infarct\n",
       "2   SCD0000301    SC-HF-I-4    Male   79     Heart failure with infarct\n",
       "3   SCD0000401    SC-HF-I-5    Male   45     Heart failure with infarct\n",
       "4   SCD0000501    SC-HF-I-6    Male   60     Heart failure with infarct\n",
       "5   SCD0000601    SC-HF-I-7    Male   74     Heart failure with infarct\n",
       "6   SCD0000701    SC-HF-I-8    Male   46     Heart failure with infarct\n",
       "7   SCD0000801    SC-HF-I-9    Male   57     Heart failure with infarct\n",
       "8   SCD0000901   SC-HF-I-10    Male   69     Heart failure with infarct\n",
       "9   SCD0001001   SC-HF-I-11    Male   55     Heart failure with infarct\n",
       "10  SCD0001101   SC-HF-I-12  Female   71     Heart failure with infarct\n",
       "11  SCD0001201   SC-HF-I-40    Male   77     Heart failure with infarct\n",
       "12  SCD0001301   SC-HF-NI-3  Female   81  Heart failure without infarct\n",
       "13  SCD0001401   SC-HF-NI-4    Male   77  Heart failure without infarct\n",
       "14  SCD0001501   SC-HF-NI-7    Male   81  Heart failure without infarct\n",
       "15  SCD0001601  SC-HF-NI-11    Male   71  Heart failure without infarct\n",
       "16  SCD0001701  SC-HF-NI-12  Female   63  Heart failure without infarct\n",
       "17  SCD0001801  SC-HF-NI-13  Female   68  Heart failure without infarct\n",
       "18  SCD0001901  SC-HF-NI-14    Male   82  Heart failure without infarct\n",
       "19  SCD0002001  SC-HF-NI-15    Male   27  Heart failure without infarct\n",
       "20  SCD0002101  SC-HF-NI-31    Male   52  Heart failure without infarct\n",
       "21  SCD0002201  SC-HF-NI-33    Male   47  Heart failure without infarct\n",
       "22  SCD0002301  SC-HF-NI-34    Male   52  Heart failure without infarct\n",
       "23  SCD0002401  SC-HF-NI-36  Female   77  Heart failure without infarct\n",
       "24  SCD0002501     SC-HYP-1    Male   83                    Hypertrophy\n",
       "25  SCD0002601     SC-HYP-3    Male   42                    Hypertrophy\n",
       "26  SCD0002701     SC-HYP-6  Female   46                    Hypertrophy\n",
       "27  SCD0002801     SC-HYP-7    Male   61                    Hypertrophy\n",
       "28  SCD0002901     SC-HYP-8    Male   62                    Hypertrophy\n",
       "29  SCD0003001     SC-HYP-9  Female   48                    Hypertrophy\n",
       "30  SCD0003101    SC-HYP-10    Male   47                    Hypertrophy\n",
       "31  SCD0003201    SC-HYP-11  Female   53                    Hypertrophy\n",
       "32  SCD0003301    SC-HYP-12  Female   76                    Hypertrophy\n",
       "33  SCD0003401    SC-HYP-37  Female   68                    Hypertrophy\n",
       "34  SCD0003501    SC-HYP-38    Male   38                    Hypertrophy\n",
       "35  SCD0003601    SC-HYP-40    Male   68                    Hypertrophy\n",
       "36  SCD0003701       SC-N-2    Male   63                         Normal\n",
       "37  SCD0003801       SC-N-3  Female   53                         Normal\n",
       "38  SCD0003901       SC-N-5  Female   77                         Normal\n",
       "39  SCD0004001       SC-N-6    Male   70                         Normal\n",
       "40  SCD0004101       SC-N-7    Male   23                         Normal\n",
       "41  SCD0004201       SC-N-9    Male   51                         Normal\n",
       "42  SCD0004301      SC-N-10    Male   61                         Normal\n",
       "43  SCD0004401      SC-N-11    Male   60                         Normal\n",
       "44  SCD0004501      SC-N-40  Female   88                         Normal"
      ]
     },
     "execution_count": 4,
     "metadata": {},
     "output_type": "execute_result"
    }
   ],
   "source": [
    "df_patientdata.head(50)"
   ]
  },
  {
   "cell_type": "code",
   "execution_count": 5,
   "id": "f646486c",
   "metadata": {},
   "outputs": [],
   "source": [
    "# Get the directory of the current script or notebook\n",
    "script_dir = os.path.dirname(os.path.abspath('Cardiac MRI segmentation.ipynb'))\n",
    "\n",
    "# Construct the relative path to the data folder\n",
    "data_folder = os.path.join(script_dir, 'data', 'SCD_IMAGES')\n",
    "\n",
    "# Initialize a dictionary to store files\n",
    "files = {}\n",
    "\n",
    "# Loop through the subdirectories within the specified path\n",
    "for dirname, _, filenames in os.walk(data_folder):\n",
    "    # Ensure directory paths use forward slashes for consistency\n",
    "    dirname = dirname.replace('\\\\', '/')\n",
    "\n",
    "    # Check if the directory is not already in the dictionary\n",
    "    if dirname not in files:\n",
    "        # Create a list of file paths within the directory\n",
    "        file_paths = [os.path.join(dirname, filename) for filename in filenames]\n",
    "\n",
    "        # Add the directory and its associated file paths to the dictionary\n",
    "        files[dirname] = file_paths"
   ]
  },
  {
   "cell_type": "code",
   "execution_count": 6,
   "id": "37ee6996",
   "metadata": {},
   "outputs": [],
   "source": [
    "# dicom_files=[]\n",
    "# i=0\n",
    "# for key,value in files.items():\n",
    "#     print(f'Loop {i}', end='\\r')\n",
    "#     if (value != []) and (len(value) != 1):\n",
    "#         for item in value:\n",
    "#             dicom_data=pydicom.dcmread(item)\n",
    "#             dicom_files.append(dicom_data)\n",
    "\n",
    "#     i+=1"
   ]
  },
  {
   "cell_type": "code",
   "execution_count": 7,
   "id": "fb2a78fd-d11d-494c-933d-158c4c30d0fc",
   "metadata": {},
   "outputs": [],
   "source": [
    "# def reproducible_shuffle(lst, seed):\n",
    "#     random.seed(seed)\n",
    "#     shuffled_lst = lst.copy()  # Az eredeti lista megőrzése\n",
    "#     random.shuffle(shuffled_lst)\n",
    "    \n",
    "#     return shuffled_lst"
   ]
  },
  {
   "cell_type": "code",
   "execution_count": 8,
   "id": "faf91063-4063-4a67-8890-57e53ce10470",
   "metadata": {},
   "outputs": [],
   "source": [
    "# files=reproducible_shuffle(files, 42) #sorrend megkeverése, az adatok túl rendezetten vannak"
   ]
  },
  {
   "cell_type": "markdown",
   "id": "2eb96608-c193-47ee-bf51-fc4604c71773",
   "metadata": {},
   "source": [
    "# Image preprocessing"
   ]
  },
  {
   "cell_type": "code",
   "execution_count": 9,
   "id": "65c50daa-a672-4ed8-ac46-09978a56652a",
   "metadata": {},
   "outputs": [],
   "source": [
    "def load(file):\n",
    "    dicom_files=[]\n",
    "    for item in file:\n",
    "        dicom_data=pydicom.dcmread(item)\n",
    "        dicom_files.append(dicom_data)\n",
    "    return dicom_files"
   ]
  },
  {
   "cell_type": "markdown",
   "id": "e51d2295-f08a-4b2f-ae73-19e57a36fa95",
   "metadata": {},
   "source": [
    "### Format check\n",
    "The only data thats was pulled into the dataframe is DICOM so it's already done"
   ]
  },
  {
   "cell_type": "markdown",
   "id": "a27dde1a-a27b-49e7-bcfe-831545e686bc",
   "metadata": {},
   "source": [
    "### Sizing"
   ]
  },
  {
   "cell_type": "code",
   "execution_count": 10,
   "id": "4061b8b4-1ce8-446e-bb06-aa22cca9183c",
   "metadata": {},
   "outputs": [],
   "source": [
    "def resize(data):\n",
    "    resized_data=[]\n",
    "    for item in data:\n",
    "        resized_image = cv2.resize(item.pixel_array, (256, 256))\n",
    "        resized_data.append([item.PatientID, resized_image])\n",
    "    return resized_data"
   ]
  },
  {
   "cell_type": "markdown",
   "id": "5ba4930c-3ccf-4286-8536-0ca03721ba6c",
   "metadata": {},
   "source": [
    "### Normalizing data"
   ]
  },
  {
   "cell_type": "code",
   "execution_count": 11,
   "id": "c7f9d6b3",
   "metadata": {},
   "outputs": [],
   "source": [
    "def normalize(data):\n",
    "    normalized_data = []\n",
    "    for item in data:\n",
    "        pixel = item[1]\n",
    "        minimum = pixel.min()\n",
    "        maximum = pixel.max()\n",
    "\n",
    "        if minimum < 0:\n",
    "            pixel = pixel + abs(minimum)\n",
    "            maximum += abs(minimum)\n",
    "        \n",
    "        if maximum != 0:\n",
    "            pixel = pixel / maximum\n",
    "        \n",
    "        normalized_data.append([item[0], pixel])\n",
    "\n",
    "    return normalized_data"
   ]
  },
  {
   "cell_type": "markdown",
   "id": "a478c070-a49b-4a68-8b25-be6fcfb2f000",
   "metadata": {},
   "source": [
    "### Augmentation"
   ]
  },
  {
   "cell_type": "markdown",
   "id": "028b4cdb-5e0b-400a-8517-ee57bd50921c",
   "metadata": {},
   "source": [
    "If needed. For now, it's empty."
   ]
  },
  {
   "cell_type": "markdown",
   "id": "761684c2-fe39-4fb3-8fe0-cf0f11d156ba",
   "metadata": {},
   "source": [
    "## Making the data"
   ]
  },
  {
   "cell_type": "code",
   "execution_count": 12,
   "id": "70d42843-48e9-45d9-b2c9-73ea4c18f7f2",
   "metadata": {},
   "outputs": [
    {
     "data": {
      "text/plain": [
       "dict"
      ]
     },
     "execution_count": 12,
     "metadata": {},
     "output_type": "execute_result"
    }
   ],
   "source": [
    "type(files)"
   ]
  },
  {
   "cell_type": "code",
   "execution_count": 13,
   "id": "3ba6454b-26cd-459a-9603-168b47076994",
   "metadata": {},
   "outputs": [],
   "source": [
    "def load_existing_data(npz_file):\n",
    "    if os.path.exists(npz_file):\n",
    "        data = np.load(npz_file, allow_pickle=True)\n",
    "        if 'ids' in data and 'images' in data:\n",
    "            existing_ids = data['ids']\n",
    "            existing_images = data['images']\n",
    "        else:\n",
    "            existing_ids = np.array([])\n",
    "            existing_images = np.empty((0, 256, 256))\n",
    "    else:\n",
    "        existing_ids = np.array([])\n",
    "        existing_images = np.empty((0, 256, 256))\n",
    "\n",
    "    return existing_ids, existing_images"
   ]
  },
  {
   "cell_type": "code",
   "execution_count": 17,
   "id": "c515f96f-7ce0-492c-be8c-4597d65eb71d",
   "metadata": {},
   "outputs": [],
   "source": [
    "def convert_and_append_to_npz(dicom_folders_batch, npz_file, start_index):\n",
    "    existing_ids, existing_images = load_existing_data(npz_file)\n",
    "\n",
    "    for i, (dicom_folder, value) in enumerate(dicom_folders_batch):\n",
    "        if (value!=[]):\n",
    "            print(f'Loading:     {start_index + i}', end='\\r')\n",
    "    \n",
    "            dicom_files = glob.glob(os.path.join(dicom_folder, '*.dcm'))\n",
    "            loaded_files = load(dicom_files)\n",
    "            print(f'Resizing:    {start_index + i}', end='\\r')\n",
    "            sized_data = resize(loaded_files)\n",
    "            print(f'Normalizing: {start_index + i}', end='\\r')\n",
    "            normalized_data = normalize(sized_data)\n",
    "            \n",
    "            new_ids = np.array([item[0] for item in normalized_data])\n",
    "            new_images = np.array([item[1] for item in normalized_data])\n",
    "    \n",
    "            existing_ids = np.concatenate([existing_ids, new_ids])\n",
    "            existing_images = np.concatenate([existing_images, new_images])\n",
    "\n",
    "    print(f'Saving: {start_index} to {start_index + len(dicom_folders_batch) - 1}     ')\n",
    "    np.savez(npz_file, ids=existing_ids, images=existing_images)"
   ]
  },
  {
   "cell_type": "code",
   "execution_count": 19,
   "id": "33872cd9-ba26-4c87-9179-1ccea2fc47ab",
   "metadata": {},
   "outputs": [
    {
     "data": {
      "text/plain": [
       "1068"
      ]
     },
     "execution_count": 19,
     "metadata": {},
     "output_type": "execute_result"
    }
   ],
   "source": [
    "len(files)"
   ]
  },
  {
   "cell_type": "code",
   "execution_count": 18,
   "id": "9112fcee-742f-498d-8f7b-b1c22d5bbdfb",
   "metadata": {},
   "outputs": [
    {
     "name": "stdout",
     "output_type": "stream",
     "text": [
      "Saving: 0 to 99     \n",
      "Saving: 100 to 105     \n"
     ]
    },
    {
     "ename": "KeyboardInterrupt",
     "evalue": "",
     "output_type": "error",
     "traceback": [
      "\u001b[1;31m---------------------------------------------------------------------------\u001b[0m",
      "\u001b[1;31mKeyboardInterrupt\u001b[0m                         Traceback (most recent call last)",
      "Cell \u001b[1;32mIn[18], line 23\u001b[0m\n\u001b[0;32m     20\u001b[0m \u001b[38;5;28;01mfor\u001b[39;00m i \u001b[38;5;129;01min\u001b[39;00m \u001b[38;5;28mrange\u001b[39m(\u001b[38;5;241m0\u001b[39m, \u001b[38;5;28mlen\u001b[39m(split_files), batch_size):\n\u001b[0;32m     21\u001b[0m     batch_items \u001b[38;5;241m=\u001b[39m split_files[i:i \u001b[38;5;241m+\u001b[39m batch_size]\n\u001b[1;32m---> 23\u001b[0m     \u001b[43mconvert_and_append_to_npz\u001b[49m\u001b[43m(\u001b[49m\u001b[43mbatch_items\u001b[49m\u001b[43m,\u001b[49m\u001b[43m \u001b[49m\u001b[43msplit_name\u001b[49m\u001b[43m,\u001b[49m\u001b[43m \u001b[49m\u001b[43mstart_index\u001b[49m\u001b[43m \u001b[49m\u001b[38;5;241;43m+\u001b[39;49m\u001b[43m \u001b[49m\u001b[43mi\u001b[49m\u001b[43m)\u001b[49m\n\u001b[0;32m     25\u001b[0m \u001b[38;5;28mprint\u001b[39m(\u001b[38;5;124mf\u001b[39m\u001b[38;5;124m\"\u001b[39m\u001b[38;5;132;01m{\u001b[39;00mj\u001b[38;5;132;01m}\u001b[39;00m\u001b[38;5;124m. split is done\u001b[39m\u001b[38;5;124m\"\u001b[39m)\n",
      "Cell \u001b[1;32mIn[17], line 22\u001b[0m, in \u001b[0;36mconvert_and_append_to_npz\u001b[1;34m(dicom_folders_batch, npz_file, start_index)\u001b[0m\n\u001b[0;32m     19\u001b[0m         existing_images \u001b[38;5;241m=\u001b[39m np\u001b[38;5;241m.\u001b[39mconcatenate([existing_images, new_images])\n\u001b[0;32m     21\u001b[0m \u001b[38;5;28mprint\u001b[39m(\u001b[38;5;124mf\u001b[39m\u001b[38;5;124m'\u001b[39m\u001b[38;5;124mSaving: \u001b[39m\u001b[38;5;132;01m{\u001b[39;00mstart_index\u001b[38;5;132;01m}\u001b[39;00m\u001b[38;5;124m to \u001b[39m\u001b[38;5;132;01m{\u001b[39;00mstart_index\u001b[38;5;250m \u001b[39m\u001b[38;5;241m+\u001b[39m\u001b[38;5;250m \u001b[39m\u001b[38;5;28mlen\u001b[39m(dicom_folders_batch)\u001b[38;5;250m \u001b[39m\u001b[38;5;241m-\u001b[39m\u001b[38;5;250m \u001b[39m\u001b[38;5;241m1\u001b[39m\u001b[38;5;132;01m}\u001b[39;00m\u001b[38;5;124m     \u001b[39m\u001b[38;5;124m'\u001b[39m)\n\u001b[1;32m---> 22\u001b[0m \u001b[43mnp\u001b[49m\u001b[38;5;241;43m.\u001b[39;49m\u001b[43msavez\u001b[49m\u001b[43m(\u001b[49m\u001b[43mnpz_file\u001b[49m\u001b[43m,\u001b[49m\u001b[43m \u001b[49m\u001b[43mids\u001b[49m\u001b[38;5;241;43m=\u001b[39;49m\u001b[43mexisting_ids\u001b[49m\u001b[43m,\u001b[49m\u001b[43m \u001b[49m\u001b[43mimages\u001b[49m\u001b[38;5;241;43m=\u001b[39;49m\u001b[43mexisting_images\u001b[49m\u001b[43m)\u001b[49m\n",
      "File \u001b[1;32m~\\AppData\\Local\\Programs\\Python\\Python311\\Lib\\site-packages\\numpy\\lib\\npyio.py:639\u001b[0m, in \u001b[0;36msavez\u001b[1;34m(file, *args, **kwds)\u001b[0m\n\u001b[0;32m    555\u001b[0m \u001b[38;5;129m@array_function_dispatch\u001b[39m(_savez_dispatcher)\n\u001b[0;32m    556\u001b[0m \u001b[38;5;28;01mdef\u001b[39;00m \u001b[38;5;21msavez\u001b[39m(file, \u001b[38;5;241m*\u001b[39margs, \u001b[38;5;241m*\u001b[39m\u001b[38;5;241m*\u001b[39mkwds):\n\u001b[0;32m    557\u001b[0m \u001b[38;5;250m    \u001b[39m\u001b[38;5;124;03m\"\"\"Save several arrays into a single file in uncompressed ``.npz`` format.\u001b[39;00m\n\u001b[0;32m    558\u001b[0m \n\u001b[0;32m    559\u001b[0m \u001b[38;5;124;03m    Provide arrays as keyword arguments to store them under the\u001b[39;00m\n\u001b[1;32m   (...)\u001b[0m\n\u001b[0;32m    637\u001b[0m \n\u001b[0;32m    638\u001b[0m \u001b[38;5;124;03m    \"\"\"\u001b[39;00m\n\u001b[1;32m--> 639\u001b[0m     \u001b[43m_savez\u001b[49m\u001b[43m(\u001b[49m\u001b[43mfile\u001b[49m\u001b[43m,\u001b[49m\u001b[43m \u001b[49m\u001b[43margs\u001b[49m\u001b[43m,\u001b[49m\u001b[43m \u001b[49m\u001b[43mkwds\u001b[49m\u001b[43m,\u001b[49m\u001b[43m \u001b[49m\u001b[38;5;28;43;01mFalse\u001b[39;49;00m\u001b[43m)\u001b[49m\n",
      "File \u001b[1;32m~\\AppData\\Local\\Programs\\Python\\Python311\\Lib\\site-packages\\numpy\\lib\\npyio.py:743\u001b[0m, in \u001b[0;36m_savez\u001b[1;34m(file, args, kwds, compress, allow_pickle, pickle_kwargs)\u001b[0m\n\u001b[0;32m    741\u001b[0m     \u001b[38;5;66;03m# always force zip64, gh-10776\u001b[39;00m\n\u001b[0;32m    742\u001b[0m     \u001b[38;5;28;01mwith\u001b[39;00m zipf\u001b[38;5;241m.\u001b[39mopen(fname, \u001b[38;5;124m'\u001b[39m\u001b[38;5;124mw\u001b[39m\u001b[38;5;124m'\u001b[39m, force_zip64\u001b[38;5;241m=\u001b[39m\u001b[38;5;28;01mTrue\u001b[39;00m) \u001b[38;5;28;01mas\u001b[39;00m fid:\n\u001b[1;32m--> 743\u001b[0m         \u001b[38;5;28;43mformat\u001b[39;49m\u001b[38;5;241;43m.\u001b[39;49m\u001b[43mwrite_array\u001b[49m\u001b[43m(\u001b[49m\u001b[43mfid\u001b[49m\u001b[43m,\u001b[49m\u001b[43m \u001b[49m\u001b[43mval\u001b[49m\u001b[43m,\u001b[49m\n\u001b[0;32m    744\u001b[0m \u001b[43m                           \u001b[49m\u001b[43mallow_pickle\u001b[49m\u001b[38;5;241;43m=\u001b[39;49m\u001b[43mallow_pickle\u001b[49m\u001b[43m,\u001b[49m\n\u001b[0;32m    745\u001b[0m \u001b[43m                           \u001b[49m\u001b[43mpickle_kwargs\u001b[49m\u001b[38;5;241;43m=\u001b[39;49m\u001b[43mpickle_kwargs\u001b[49m\u001b[43m)\u001b[49m\n\u001b[0;32m    747\u001b[0m zipf\u001b[38;5;241m.\u001b[39mclose()\n",
      "File \u001b[1;32m~\\AppData\\Local\\Programs\\Python\\Python311\\Lib\\site-packages\\numpy\\lib\\format.py:735\u001b[0m, in \u001b[0;36mwrite_array\u001b[1;34m(fp, array, version, allow_pickle, pickle_kwargs)\u001b[0m\n\u001b[0;32m    731\u001b[0m \u001b[38;5;28;01melse\u001b[39;00m:\n\u001b[0;32m    732\u001b[0m     \u001b[38;5;28;01mfor\u001b[39;00m chunk \u001b[38;5;129;01min\u001b[39;00m numpy\u001b[38;5;241m.\u001b[39mnditer(\n\u001b[0;32m    733\u001b[0m             array, flags\u001b[38;5;241m=\u001b[39m[\u001b[38;5;124m'\u001b[39m\u001b[38;5;124mexternal_loop\u001b[39m\u001b[38;5;124m'\u001b[39m, \u001b[38;5;124m'\u001b[39m\u001b[38;5;124mbuffered\u001b[39m\u001b[38;5;124m'\u001b[39m, \u001b[38;5;124m'\u001b[39m\u001b[38;5;124mzerosize_ok\u001b[39m\u001b[38;5;124m'\u001b[39m],\n\u001b[0;32m    734\u001b[0m             buffersize\u001b[38;5;241m=\u001b[39mbuffersize, order\u001b[38;5;241m=\u001b[39m\u001b[38;5;124m'\u001b[39m\u001b[38;5;124mC\u001b[39m\u001b[38;5;124m'\u001b[39m):\n\u001b[1;32m--> 735\u001b[0m         \u001b[43mfp\u001b[49m\u001b[38;5;241;43m.\u001b[39;49m\u001b[43mwrite\u001b[49m\u001b[43m(\u001b[49m\u001b[43mchunk\u001b[49m\u001b[38;5;241;43m.\u001b[39;49m\u001b[43mtobytes\u001b[49m\u001b[43m(\u001b[49m\u001b[38;5;124;43m'\u001b[39;49m\u001b[38;5;124;43mC\u001b[39;49m\u001b[38;5;124;43m'\u001b[39;49m\u001b[43m)\u001b[49m\u001b[43m)\u001b[49m\n",
      "File \u001b[1;32m~\\AppData\\Local\\Programs\\Python\\Python311\\Lib\\zipfile.py:1169\u001b[0m, in \u001b[0;36m_ZipWriteFile.write\u001b[1;34m(self, data)\u001b[0m\n\u001b[0;32m   1167\u001b[0m     data \u001b[38;5;241m=\u001b[39m \u001b[38;5;28mself\u001b[39m\u001b[38;5;241m.\u001b[39m_compressor\u001b[38;5;241m.\u001b[39mcompress(data)\n\u001b[0;32m   1168\u001b[0m     \u001b[38;5;28mself\u001b[39m\u001b[38;5;241m.\u001b[39m_compress_size \u001b[38;5;241m+\u001b[39m\u001b[38;5;241m=\u001b[39m \u001b[38;5;28mlen\u001b[39m(data)\n\u001b[1;32m-> 1169\u001b[0m \u001b[38;5;28mself\u001b[39m\u001b[38;5;241m.\u001b[39m_fileobj\u001b[38;5;241m.\u001b[39mwrite(data)\n\u001b[0;32m   1170\u001b[0m \u001b[38;5;28;01mreturn\u001b[39;00m nbytes\n",
      "\u001b[1;31mKeyboardInterrupt\u001b[0m: "
     ]
    }
   ],
   "source": [
    "batch_size = 100\n",
    "split_num=12\n",
    "base_name = 'data/images'\n",
    "\n",
    "# Assume 'files' is your dictionary with keys as folders and values as lists of files\n",
    "\n",
    "total_files = len(files)\n",
    "split_size = total_files // split_num\n",
    "\n",
    "for j in range(split_num):\n",
    "    split_name = f'{base_name}_split{j}.npz'\n",
    "\n",
    "    # Calculate start and end index for the current split\n",
    "    start_index = j * split_size\n",
    "    end_index = (j + 1) * split_size if j < split_num-1 else total_files\n",
    "\n",
    "    # Extract the relevant subset of files for the current split\n",
    "    split_files = list(files.items())[start_index:end_index]\n",
    "\n",
    "    convert_and_append_to_npz(split_files, split_name, start_index)\n",
    "\n",
    "    print(f\"{j}. split is done\")"
   ]
  },
  {
   "cell_type": "markdown",
   "id": "31ff2461-bc80-4c71-afcd-72ebfa7dbc6c",
   "metadata": {},
   "source": [
    "# Merging the data"
   ]
  },
  {
   "cell_type": "markdown",
   "id": "f8be02be",
   "metadata": {},
   "source": [
    "# Exploratory Data Analysis"
   ]
  },
  {
   "cell_type": "code",
   "execution_count": null,
   "id": "c989991e",
   "metadata": {},
   "outputs": [],
   "source": [
    "# df_eda=pd.DataFrame(df.dtypes)\n",
    "# df_eda.rename(columns={0: 'type'}, inplace = True)\n",
    "# df_eda.reset_index(inplace=True)\n",
    "\n",
    "# data = df_eda[\"type\"].value_counts()\n",
    "# ax = data.plot(kind=\"pie\", autopct='%1.1f%%', legend=True, title='Adattípusok', ylabel='', pctdistance=0.7, labeldistance=None, figsize=(5,5), fontsize=11)\n",
    "# ax.legend(bbox_to_anchor=(1, 1.02), loc='upper left')\n",
    "# plt.show()"
   ]
  },
  {
   "cell_type": "code",
   "execution_count": null,
   "id": "240b5af5-8e66-4b67-8e9a-62fc9d57b9ef",
   "metadata": {},
   "outputs": [],
   "source": []
  },
  {
   "cell_type": "markdown",
   "id": "008be994-3add-49ed-8623-007a9ca296f4",
   "metadata": {},
   "source": [
    "# Defining input and output\n"
   ]
  },
  {
   "cell_type": "markdown",
   "id": "70775598-ec2e-430f-952c-724d5fff64fd",
   "metadata": {},
   "source": [
    "### Is_Male\n",
    "Flag változó"
   ]
  },
  {
   "cell_type": "code",
   "execution_count": null,
   "id": "ba2f6fc7-22ca-476b-9b76-d669aa9df662",
   "metadata": {},
   "outputs": [],
   "source": [
    "df_patientdata['Is_Male'] = df_patientdata['Gender'].apply(lambda x: 1 if x == 'Male' else 0)"
   ]
  },
  {
   "cell_type": "markdown",
   "id": "a1ba7901-047d-41de-8830-f0413f0521e3",
   "metadata": {},
   "source": [
    "### Pathology\n",
    "Dummy változóvá alakítás"
   ]
  },
  {
   "cell_type": "markdown",
   "id": "552cc2da-09df-4736-b96c-361406979ab1",
   "metadata": {},
   "source": [
    "| Szöveges Érték                       | Címke | \r\n",
    "|--------------------------------------|-------|\r\n",
    "| Normal                               | 0     | |\r\n",
    "| Heart failure with infarct           | 1    |  |\r\n",
    "| Heart failure without infarct        | 2   |   |\r\n",
    "| Hypertrophy                          | 3  |    |\r\n"
   ]
  },
  {
   "cell_type": "code",
   "execution_count": null,
   "id": "6e8e7402-640f-4d9e-bbf3-af868c290766",
   "metadata": {},
   "outputs": [],
   "source": [
    "dict = {'Normal': 0, 'Heart failure with infarct': 1, 'Heart failure without infarct' :2, 'Hypertrophy': 3}"
   ]
  },
  {
   "cell_type": "code",
   "execution_count": null,
   "id": "e45777d3-dc96-4c4d-9e42-ee22ad91cb28",
   "metadata": {},
   "outputs": [],
   "source": [
    "df_patientdata['Pathology']=df_patientdata['Pathology'].map(dict)"
   ]
  },
  {
   "cell_type": "markdown",
   "id": "8f162ca7-8bd4-4590-8f81-db3f384a00d1",
   "metadata": {},
   "source": [
    "### Age Group: \n",
    "10 évenkénti csoportokban vannak, így dummy változóként lehet használni. Nem tudhatjuk hogy a kor lineárisan befolyásolja-e a betegségek kialakulását."
   ]
  },
  {
   "cell_type": "code",
   "execution_count": null,
   "id": "d44eb1ea-e197-490d-882c-c90fb4391ba7",
   "metadata": {},
   "outputs": [],
   "source": [
    "df_patientdata['Age_Group'] = (df_patientdata['Age']/10).astype(int)"
   ]
  },
  {
   "cell_type": "code",
   "execution_count": null,
   "id": "1563ad5f-7649-4b8d-9180-1320d5c919d8",
   "metadata": {},
   "outputs": [],
   "source": [
    "ps_dummies = pd.get_dummies(df_patientdata['Age_Group'], prefix = 'Age_Group', drop_first = True)\n",
    "df_patientdata = df_patientdata.merge(ps_dummies, left_index = True, right_index = True, how = 'left')"
   ]
  },
  {
   "cell_type": "code",
   "execution_count": null,
   "id": "8a75c3a7-b0c3-44f6-ad5c-2e2671f6da0d",
   "metadata": {},
   "outputs": [],
   "source": [
    "df_patientdata=df_patientdata.drop(['Gender', 'Age', 'Age_Group', 'OriginalID'], axis=1)"
   ]
  },
  {
   "cell_type": "code",
   "execution_count": null,
   "id": "7e268c61-6f0f-439b-8175-37eaa208e796",
   "metadata": {},
   "outputs": [],
   "source": [
    "df_patientdata.to_csv('data/df_patientdata.csv', index=False)\n"
   ]
  },
  {
   "cell_type": "code",
   "execution_count": null,
   "id": "36402de9-8760-40ce-bf58-0952238b1c7c",
   "metadata": {},
   "outputs": [],
   "source": [
    "del df_patientdata"
   ]
  }
 ],
 "metadata": {
  "kernelspec": {
   "display_name": "Python 3 (ipykernel)",
   "language": "python",
   "name": "python3"
  },
  "language_info": {
   "codemirror_mode": {
    "name": "ipython",
    "version": 3
   },
   "file_extension": ".py",
   "mimetype": "text/x-python",
   "name": "python",
   "nbconvert_exporter": "python",
   "pygments_lexer": "ipython3",
   "version": "3.11.5"
  }
 },
 "nbformat": 4,
 "nbformat_minor": 5
}
